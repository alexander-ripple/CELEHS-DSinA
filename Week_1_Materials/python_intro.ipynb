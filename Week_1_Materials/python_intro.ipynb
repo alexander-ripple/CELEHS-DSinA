{
  "nbformat": 4,
  "nbformat_minor": 0,
  "metadata": {
    "kernelspec": {
      "display_name": "Python 3",
      "language": "python",
      "name": "python3"
    },
    "language_info": {
      "codemirror_mode": {
        "name": "ipython",
        "version": 3
      },
      "file_extension": ".py",
      "mimetype": "text/x-python",
      "name": "python",
      "nbconvert_exporter": "python",
      "pygments_lexer": "ipython3",
      "version": "3.7.6"
    },
    "colab": {
      "name": "python_intro.ipynb",
      "provenance": [],
      "collapsed_sections": [],
      "include_colab_link": true
    }
  },
  "cells": [
    {
      "cell_type": "markdown",
      "metadata": {
        "id": "view-in-github",
        "colab_type": "text"
      },
      "source": [
        "<a href=\"https://colab.research.google.com/github/jlgrons/CELEHS-DSinA/blob/main/python_intro.ipynb\" target=\"_parent\"><img src=\"https://colab.research.google.com/assets/colab-badge.svg\" alt=\"Open In Colab\"/></a>"
      ]
    },
    {
      "cell_type": "markdown",
      "metadata": {
        "id": "9VIF7zKxl4XJ"
      },
      "source": [
        "# Introduction to Python"
      ]
    },
    {
      "cell_type": "markdown",
      "metadata": {
        "id": "lBYLtLy9l4XK"
      },
      "source": [
        "This is a very brief, surface-level intro to Python that will let you experiment with the basic data types and commands. Don't worry if everything is not entirely clear, we'll keep using these concepts throughout the sessions and they will become more familiar. This is meant to be a fun excercise that will make you want to keep programming!"
      ]
    },
    {
      "cell_type": "markdown",
      "metadata": {
        "id": "zdcUSS6Pl4XL"
      },
      "source": [
        "## Basics"
      ]
    },
    {
      "cell_type": "markdown",
      "metadata": {
        "id": "AAmwpelwl4XL"
      },
      "source": [
        "### Data Types\n",
        "\n",
        "Python can handle many types of data represented by objects. Four basic data types that you should know are:\n",
        "- `int` (2)\n",
        "- `float` (3.5)\n",
        "- `str` (\"hello\")\n",
        "- `bool` (`True`, `False`)\n",
        "\n",
        "Both single `'` or double `\"` quotes are valid in Python. \n",
        "\n",
        "You can test the type of an object using `type(object)`. We can use this to check the types of various objects below:\n"
      ]
    },
    {
      "cell_type": "code",
      "metadata": {
        "id": "e1SXJ0nml4XM",
        "colab": {
          "base_uri": "https://localhost:8080/"
        },
        "outputId": "926452d1-b05b-4c5e-a3cf-e0841cd67b9a"
      },
      "source": [
        "type(4), type(2.7), type(\"Python\"), type(True)"
      ],
      "execution_count": null,
      "outputs": [
        {
          "output_type": "execute_result",
          "data": {
            "text/plain": [
              "(int, float, str, bool)"
            ]
          },
          "metadata": {
            "tags": []
          },
          "execution_count": 6
        }
      ]
    },
    {
      "cell_type": "markdown",
      "metadata": {
        "id": "d50-W9X66YwK"
      },
      "source": [
        "Exercise: Now use `type()` to check the types of the following objects:\n",
        "\n",
        "*   38.5\n",
        "*   38.\n",
        "*   38\n",
        "*   \"38\"\n",
        "\n",
        "Note that only the final line is displayed so try to write the code on one line as above. Alternatively you can use the `print()` function to display the outputs"
      ]
    },
    {
      "cell_type": "code",
      "metadata": {
        "id": "MTv7QqXT7O_J",
        "colab": {
          "base_uri": "https://localhost:8080/"
        },
        "outputId": "8bed387c-2605-440e-abbe-ebc6d9f72db0"
      },
      "source": [
        "# Please write your code below\n",
        "type(38.5), type(38.), type(38), type(\"38\")"
      ],
      "execution_count": null,
      "outputs": [
        {
          "output_type": "execute_result",
          "data": {
            "text/plain": [
              "(float, float, int, str)"
            ]
          },
          "metadata": {
            "tags": []
          },
          "execution_count": 10
        }
      ]
    },
    {
      "cell_type": "markdown",
      "metadata": {
        "id": "_IiejCez-eqD"
      },
      "source": [
        "You can also assign objects to variables by putting the variable name on the left, followed by an equal sign, followed by a value, as in\n",
        "`my_var = \"a string\"`\n",
        "\n",
        "Note that variable names cannot contain a space, and certain strings are reserved by the language and cannot be used as variable names.\n",
        "\n",
        "Here we assign a value of `0.3` to a variable called `x`, then check the type."
      ]
    },
    {
      "cell_type": "code",
      "metadata": {
        "id": "w6b6ZaQV-yZZ",
        "colab": {
          "base_uri": "https://localhost:8080/"
        },
        "outputId": "02a5dc44-83bc-4236-a88f-a6567550d373"
      },
      "source": [
        "x = 0.3\n",
        "type(x)"
      ],
      "execution_count": null,
      "outputs": [
        {
          "output_type": "execute_result",
          "data": {
            "text/plain": [
              "float"
            ]
          },
          "metadata": {
            "tags": []
          },
          "execution_count": 12
        }
      ]
    },
    {
      "cell_type": "markdown",
      "metadata": {
        "id": "0U0Tr6_2AsQ9"
      },
      "source": [
        "### Numeric Operations\n",
        "\n",
        "We can do all the usual things with numbers, including addition (`+`), subtraction (`-`), multiplication (`*`), and division (`/`). We also have exponentiation (`**`), integer division (`//`), and modulus (`%`).\n",
        "\n",
        "Exercise: Try playing around with the operations so you understand what they do. If you are unsure of the order of operations, use parentheses"
      ]
    },
    {
      "cell_type": "code",
      "metadata": {
        "id": "ZPIoREBuBipJ",
        "colab": {
          "base_uri": "https://localhost:8080/"
        },
        "outputId": "e2ec3498-b59f-46b1-bfb3-5e7c26743fa0"
      },
      "source": [
        "# Change the values and operations below, or create new expressions\n",
        "print(21%2.3)"
      ],
      "execution_count": null,
      "outputs": [
        {
          "output_type": "stream",
          "text": [
            "0.3000000000000016\n"
          ],
          "name": "stdout"
        }
      ]
    },
    {
      "cell_type": "markdown",
      "metadata": {
        "id": "-SuCNyuCJydb"
      },
      "source": [
        "Of course, this can also be done with variables"
      ]
    },
    {
      "cell_type": "code",
      "metadata": {
        "id": "7EaXpEURJ1h4",
        "colab": {
          "base_uri": "https://localhost:8080/"
        },
        "outputId": "9eb9cb1f-9ee0-427d-fb09-f6204ad31d39"
      },
      "source": [
        "x = 50\n",
        "y = 23\n",
        "z = x + y\n",
        "print(x, y, z)"
      ],
      "execution_count": null,
      "outputs": [
        {
          "output_type": "stream",
          "text": [
            "50 23 73\n"
          ],
          "name": "stdout"
        }
      ]
    },
    {
      "cell_type": "markdown",
      "metadata": {
        "id": "prjj5nA3KD44"
      },
      "source": [
        "Note that variable assignment can be self referential. To increase the value of `x` by 1, we can write"
      ]
    },
    {
      "cell_type": "code",
      "metadata": {
        "id": "QkxJ8ZfEKDLR",
        "colab": {
          "base_uri": "https://localhost:8080/"
        },
        "outputId": "0f6edc33-fdca-4662-f257-aea60aa707eb"
      },
      "source": [
        "x = x + 1\n",
        "print(x)"
      ],
      "execution_count": null,
      "outputs": [
        {
          "output_type": "stream",
          "text": [
            "55\n"
          ],
          "name": "stdout"
        }
      ]
    },
    {
      "cell_type": "markdown",
      "metadata": {
        "id": "dstRQYIpKQ5q"
      },
      "source": [
        "This is so common, in fact, that there is a shorthand for it"
      ]
    },
    {
      "cell_type": "code",
      "metadata": {
        "id": "_u9sQUBPKQS8",
        "colab": {
          "base_uri": "https://localhost:8080/"
        },
        "outputId": "af4b18bf-c3f0-421a-8f3d-8ffa08e214d5"
      },
      "source": [
        "x += 1\n",
        "print(x)"
      ],
      "execution_count": null,
      "outputs": [
        {
          "output_type": "stream",
          "text": [
            "166\n"
          ],
          "name": "stdout"
        }
      ]
    },
    {
      "cell_type": "markdown",
      "metadata": {
        "id": "WTOuvlC6KrJf"
      },
      "source": [
        "This shorthand also exists for many other basic operators.\n",
        "\n",
        "Exercise: Try it below"
      ]
    },
    {
      "cell_type": "code",
      "metadata": {
        "id": "CWMEoy1FKtFz",
        "colab": {
          "base_uri": "https://localhost:8080/"
        },
        "outputId": "f354a87f-0cd1-44ea-a1ae-9c33413bdc08"
      },
      "source": [
        "# Change the values and operators. Ask if the result is unintuitive\n",
        "x = 20\n",
        "x %= 3\n",
        "print(x)"
      ],
      "execution_count": null,
      "outputs": [
        {
          "output_type": "stream",
          "text": [
            "2\n"
          ],
          "name": "stdout"
        }
      ]
    },
    {
      "cell_type": "markdown",
      "metadata": {
        "id": "vu8SYYrtDW9Q"
      },
      "source": [
        "Polymorphism is the idea that the meaning of an operation, such as + and *, depends on the objects being operated on\n",
        "\n",
        "For example, here `+` is referred to as “concatenation” and `*` as “repetition”"
      ]
    },
    {
      "cell_type": "code",
      "metadata": {
        "id": "kUBh3532DUz0",
        "colab": {
          "base_uri": "https://localhost:8080/"
        },
        "outputId": "bf5fe933-ae79-432f-ef12-352182c3093d"
      },
      "source": [
        "print(\"Barn\" + \"yard\")\n",
        "print(\"Hello\"*3)"
      ],
      "execution_count": null,
      "outputs": [
        {
          "output_type": "stream",
          "text": [
            "Barnyard\n",
            "HelloHelloHello\n"
          ],
          "name": "stdout"
        }
      ]
    },
    {
      "cell_type": "markdown",
      "metadata": {
        "id": "yKMVY-IdH8uJ"
      },
      "source": [
        "### Casting\n",
        "\n",
        "Sometimes we want to change the data type of an object. For example, we might get the strings `\"2\"` and `\"5\"` as input, but we want to treat them as numbers and add them. If we just add them, we don't get the desired result:"
      ]
    },
    {
      "cell_type": "code",
      "metadata": {
        "id": "Q3dvj7BSIJAm",
        "colab": {
          "base_uri": "https://localhost:8080/",
          "height": 35
        },
        "outputId": "0876b79c-e5d3-4409-8b5d-2275ee0dae04"
      },
      "source": [
        "input_1 = \"2\"\n",
        "input_2 = \"5\"\n",
        "input_1 + input_2"
      ],
      "execution_count": null,
      "outputs": [
        {
          "output_type": "execute_result",
          "data": {
            "application/vnd.google.colaboratory.intrinsic+json": {
              "type": "string"
            },
            "text/plain": [
              "'25'"
            ]
          },
          "metadata": {
            "tags": []
          },
          "execution_count": 34
        }
      ]
    },
    {
      "cell_type": "markdown",
      "metadata": {
        "id": "oncco-6EIT-K"
      },
      "source": [
        "We can convert them to the `int` type through whats called casting. This tells the program to treat the objects as if they were a different type"
      ]
    },
    {
      "cell_type": "code",
      "metadata": {
        "id": "aFRQc7QMITUP",
        "colab": {
          "base_uri": "https://localhost:8080/"
        },
        "outputId": "c0795508-8c64-4079-f9f9-7ce72248e265"
      },
      "source": [
        "int(input_1) + int(input_2)"
      ],
      "execution_count": null,
      "outputs": [
        {
          "output_type": "execute_result",
          "data": {
            "text/plain": [
              "7"
            ]
          },
          "metadata": {
            "tags": []
          },
          "execution_count": 35
        }
      ]
    },
    {
      "cell_type": "markdown",
      "metadata": {
        "id": "P8qDt8YLIsOj"
      },
      "source": [
        "This does have its limits, as some objects cannot be converted. For example, this returns an error"
      ]
    },
    {
      "cell_type": "code",
      "metadata": {
        "id": "ac6MtIMnIyR3",
        "colab": {
          "base_uri": "https://localhost:8080/",
          "height": 164
        },
        "outputId": "cba41ad4-4bf1-4667-899d-35e126193e76"
      },
      "source": [
        "int(\"a string\")"
      ],
      "execution_count": null,
      "outputs": [
        {
          "output_type": "error",
          "ename": "ValueError",
          "evalue": "ignored",
          "traceback": [
            "\u001b[0;31m---------------------------------------------------------------------------\u001b[0m",
            "\u001b[0;31mValueError\u001b[0m                                Traceback (most recent call last)",
            "\u001b[0;32m<ipython-input-36-0b7900138d41>\u001b[0m in \u001b[0;36m<module>\u001b[0;34m()\u001b[0m\n\u001b[0;32m----> 1\u001b[0;31m \u001b[0mint\u001b[0m\u001b[0;34m(\u001b[0m\u001b[0;34m\"a string\"\u001b[0m\u001b[0;34m)\u001b[0m\u001b[0;34m\u001b[0m\u001b[0;34m\u001b[0m\u001b[0m\n\u001b[0m",
            "\u001b[0;31mValueError\u001b[0m: invalid literal for int() with base 10: 'a string'"
          ]
        }
      ]
    },
    {
      "cell_type": "markdown",
      "metadata": {
        "id": "-BLcRThH7S5M"
      },
      "source": [
        "## Data Structures\n",
        "\n",
        "When we have a collection of several objects, there are many ways to organize them. These types of objects that hold data are called \"data structures.\" Two basic properties are whether they are ordered, and whether they are mutable. Objects in an ordered data structure has a definite position, ie first, second, third etc. An object or data structure is said to be \"mutable\" if its value can change after creation. In some applications it is desirable for an object to hold a consistent value and so immutability is desired.\n",
        "\n",
        "A few of the most commonly used data structures are\n",
        "*   Lists: Ordered, mutable\n",
        "*   Tuples: Ordered, immutable\n",
        "*   Sets: Unordered, mutable, no duplicates\n",
        "*   Dictionary: unordered, mutable, stores (key, value) pairs\n",
        "\n",
        "Typically we will be using lists to store most objects."
      ]
    },
    {
      "cell_type": "markdown",
      "metadata": {
        "id": "OPUnfaIm8wSY"
      },
      "source": [
        "### List examples\n",
        "\n",
        "Lists are exactly what you'd expect them to be; an ordered collection of objects. In theory there is no restriction on what objects can be put into a list. They can have different types, and can themselves be lists. However, in practice we will want the elements to share a type so they are easier to work with. To create a list, use an open bracket `[` to denote the start and and a close bracket `]` to denote the end, and separate elements with a comma `,`.\n"
      ]
    },
    {
      "cell_type": "code",
      "metadata": {
        "id": "AbxiouBR9kQS",
        "colab": {
          "base_uri": "https://localhost:8080/"
        },
        "outputId": "165fe9a1-7428-48b6-e724-5f6df1fd941b"
      },
      "source": [
        "type([\"a\", \"list\", \"of\", \"strings\"])"
      ],
      "execution_count": null,
      "outputs": [
        {
          "output_type": "execute_result",
          "data": {
            "text/plain": [
              "list"
            ]
          },
          "metadata": {
            "tags": []
          },
          "execution_count": 37
        }
      ]
    },
    {
      "cell_type": "code",
      "metadata": {
        "id": "8UyDS5vT-Fsc",
        "colab": {
          "base_uri": "https://localhost:8080/"
        },
        "outputId": "80f3ef3c-610b-47be-af2d-6b613b1686e4"
      },
      "source": [
        "type([2, \"a very diverse list\", True, 0.33, [1, 2, 3]])"
      ],
      "execution_count": null,
      "outputs": [
        {
          "output_type": "execute_result",
          "data": {
            "text/plain": [
              "list"
            ]
          },
          "metadata": {
            "tags": []
          },
          "execution_count": 38
        }
      ]
    },
    {
      "cell_type": "markdown",
      "metadata": {
        "id": "fPKZvDTf_CXZ"
      },
      "source": [
        "Elements of the list can be accessed using the syntax `list_name[index]`. Note that Python is a 0-indexed language, so `list_name[0]` returns the value of the first element. Try to change the index to retrieve the word `\"fox\"`"
      ]
    },
    {
      "cell_type": "code",
      "metadata": {
        "id": "xcpYhOun_UmS",
        "colab": {
          "base_uri": "https://localhost:8080/",
          "height": 35
        },
        "outputId": "0c86e6c7-7517-43c6-a5e9-c981517490d7"
      },
      "source": [
        "my_list = [\"the\", \"quick\", \"brown\", \"fox\", \"jumps\", \"over\", \"the\", \"lazy\", \"dog\"]\n",
        "my_list[2]"
      ],
      "execution_count": null,
      "outputs": [
        {
          "output_type": "execute_result",
          "data": {
            "application/vnd.google.colaboratory.intrinsic+json": {
              "type": "string"
            },
            "text/plain": [
              "'brown'"
            ]
          },
          "metadata": {
            "tags": []
          },
          "execution_count": 41
        }
      ]
    },
    {
      "cell_type": "markdown",
      "metadata": {
        "id": "FH-VAelxEwwb"
      },
      "source": [
        "We can also change the values in a list through assignment"
      ]
    },
    {
      "cell_type": "code",
      "metadata": {
        "id": "fSe8Al8IE2uw",
        "colab": {
          "base_uri": "https://localhost:8080/"
        },
        "outputId": "82b6e209-c47f-4daf-f4eb-941806e50a27"
      },
      "source": [
        "list_of_numbers = [0, 1, 2]\n",
        "list_of_numbers[0] = \"a string\"\n",
        "list_of_numbers"
      ],
      "execution_count": null,
      "outputs": [
        {
          "output_type": "execute_result",
          "data": {
            "text/plain": [
              "['a string', 1, 2]"
            ]
          },
          "metadata": {
            "tags": []
          },
          "execution_count": 42
        }
      ]
    },
    {
      "cell_type": "markdown",
      "metadata": {
        "id": "8HaGrk3kT4lG"
      },
      "source": [
        "To get the length of a list, use `len()`"
      ]
    },
    {
      "cell_type": "code",
      "metadata": {
        "id": "wDAght0JT7EQ",
        "colab": {
          "base_uri": "https://localhost:8080/"
        },
        "outputId": "d0c00206-fcf5-450b-f8a2-c81cd376e704"
      },
      "source": [
        "my_list = [\"the\", \"quick\", \"brown\", \"fox\", \"jumps\", \"over\", \"the\", \"lazy\", \"dog\"]\n",
        "len(my_list)"
      ],
      "execution_count": null,
      "outputs": [
        {
          "output_type": "execute_result",
          "data": {
            "text/plain": [
              "9"
            ]
          },
          "metadata": {
            "tags": []
          },
          "execution_count": 43
        }
      ]
    },
    {
      "cell_type": "markdown",
      "source": [
        "#### List Indexing\n",
        "Lists in Python support complex indexing operations. Here are some examples:"
      ],
      "metadata": {
        "id": "VKIM6WWGVb0V"
      }
    },
    {
      "cell_type": "code",
      "source": [
        "my_list = [2, 4, 6, 8, 10, 12, 14]\n",
        "print(my_list[0])\n",
        "print(my_list[-1])\n",
        "print(my_list[-2])\n",
        "print(my_list[2:4])\n",
        "print(my_list[2:-2])\n",
        "print(my_list[3:])\n",
        "print(my_list[:-3])\n",
        "print(my_list[2:8:2])\n",
        "print(my_list[::-1])"
      ],
      "metadata": {
        "colab": {
          "base_uri": "https://localhost:8080/"
        },
        "id": "Mw3oK_0YV1rP",
        "outputId": "c761f007-4058-48bf-af7c-8b34a252b5a1"
      },
      "execution_count": null,
      "outputs": [
        {
          "output_type": "stream",
          "name": "stdout",
          "text": [
            "2\n",
            "14\n",
            "12\n",
            "[6, 8]\n",
            "[6, 8, 10]\n",
            "[8, 10, 12, 14]\n",
            "[2, 4, 6, 8]\n",
            "[6, 10, 14]\n",
            "[14, 12, 10, 8, 6, 4, 2]\n"
          ]
        }
      ]
    },
    {
      "cell_type": "markdown",
      "metadata": {
        "id": "U_6C9Td2D4R0"
      },
      "source": [
        "### Tuple examples\n",
        "\n",
        "Tuples are similar to lists, and are represented as a sequence separated by `,` surrounded by parentheses `()`. They also support indexing to retrieve elements, but differ from lists in that you cannot change the values through indexing.\n"
      ]
    },
    {
      "cell_type": "code",
      "metadata": {
        "id": "MYmwsaIrEGdG",
        "colab": {
          "base_uri": "https://localhost:8080/"
        },
        "outputId": "8f7dff46-e621-4c9a-f225-6d84ad507380"
      },
      "source": [
        "type((1, 2, \"a\", \"b\"))"
      ],
      "execution_count": null,
      "outputs": [
        {
          "output_type": "execute_result",
          "data": {
            "text/plain": [
              "tuple"
            ]
          },
          "metadata": {
            "tags": []
          },
          "execution_count": 44
        }
      ]
    },
    {
      "cell_type": "code",
      "metadata": {
        "id": "imDDKAmGEM46",
        "colab": {
          "base_uri": "https://localhost:8080/",
          "height": 35
        },
        "outputId": "ca5d26cc-0d02-4b00-ac6b-5c3a589c3f89"
      },
      "source": [
        "my_tuple = (\"the\", \"quick\", \"brown\", \"fox\", \"jumps\", \"over\", \"the\", \"lazy\", \"dog\")\n",
        "my_tuple[0]"
      ],
      "execution_count": null,
      "outputs": [
        {
          "output_type": "execute_result",
          "data": {
            "application/vnd.google.colaboratory.intrinsic+json": {
              "type": "string"
            },
            "text/plain": [
              "'the'"
            ]
          },
          "metadata": {
            "tags": []
          },
          "execution_count": 45
        }
      ]
    },
    {
      "cell_type": "markdown",
      "metadata": {
        "id": "vLigHWglEbzZ"
      },
      "source": [
        "Trying to assign values to a tuple will result in an error"
      ]
    },
    {
      "cell_type": "code",
      "metadata": {
        "id": "Z77b7Gp2ETly",
        "colab": {
          "base_uri": "https://localhost:8080/",
          "height": 189
        },
        "outputId": "c500083b-385a-441c-e913-f19f9b0f8538"
      },
      "source": [
        "tuple_of_numbers = (0, 1, 2)\n",
        "tuple_of_numbers[0] = \"a string\""
      ],
      "execution_count": null,
      "outputs": [
        {
          "output_type": "error",
          "ename": "TypeError",
          "evalue": "ignored",
          "traceback": [
            "\u001b[0;31m---------------------------------------------------------------------------\u001b[0m",
            "\u001b[0;31mTypeError\u001b[0m                                 Traceback (most recent call last)",
            "\u001b[0;32m<ipython-input-46-b02348ba2b49>\u001b[0m in \u001b[0;36m<module>\u001b[0;34m()\u001b[0m\n\u001b[1;32m      1\u001b[0m \u001b[0mtuple_of_numbers\u001b[0m \u001b[0;34m=\u001b[0m \u001b[0;34m(\u001b[0m\u001b[0;36m0\u001b[0m\u001b[0;34m,\u001b[0m \u001b[0;36m1\u001b[0m\u001b[0;34m,\u001b[0m \u001b[0;36m2\u001b[0m\u001b[0;34m)\u001b[0m\u001b[0;34m\u001b[0m\u001b[0;34m\u001b[0m\u001b[0m\n\u001b[0;32m----> 2\u001b[0;31m \u001b[0mtuple_of_numbers\u001b[0m\u001b[0;34m[\u001b[0m\u001b[0;36m0\u001b[0m\u001b[0;34m]\u001b[0m \u001b[0;34m=\u001b[0m \u001b[0;34m\"a string\"\u001b[0m\u001b[0;34m\u001b[0m\u001b[0;34m\u001b[0m\u001b[0m\n\u001b[0m",
            "\u001b[0;31mTypeError\u001b[0m: 'tuple' object does not support item assignment"
          ]
        }
      ]
    },
    {
      "cell_type": "markdown",
      "metadata": {
        "id": "xgXZjMa-CsBa"
      },
      "source": [
        "Strings can also be treated as tuples. For example, you can index into them and find the length, but you cannot assign values"
      ]
    },
    {
      "cell_type": "code",
      "metadata": {
        "id": "zQcIYV1-CrFM",
        "colab": {
          "base_uri": "https://localhost:8080/"
        },
        "outputId": "bc52028f-900f-4b4f-d600-a85e22d8709d"
      },
      "source": [
        "my_string = \"The sky is blue\"\n",
        "print(my_string[2])\n",
        "print(len(my_string))"
      ],
      "execution_count": null,
      "outputs": [
        {
          "output_type": "stream",
          "text": [
            "e\n",
            "15\n"
          ],
          "name": "stdout"
        }
      ]
    },
    {
      "cell_type": "markdown",
      "metadata": {
        "id": "ZKYmyV6-QoiT"
      },
      "source": [
        "### Set examples\n",
        "\n",
        "Sets are also collections of objects, but they are unordered and do not contain duplicates. They are represented as a sequence separated by `,` surrounded by curly braces `{}`."
      ]
    },
    {
      "cell_type": "code",
      "metadata": {
        "id": "qTs6qDPVQ7rv",
        "colab": {
          "base_uri": "https://localhost:8080/"
        },
        "outputId": "67fa9d99-3ce1-4c6a-f580-e04c4549579d"
      },
      "source": [
        "type({\"peanut\", \"walnut\", \"pecan\"})"
      ],
      "execution_count": null,
      "outputs": [
        {
          "output_type": "execute_result",
          "data": {
            "text/plain": [
              "set"
            ]
          },
          "metadata": {
            "tags": []
          },
          "execution_count": 48
        }
      ]
    },
    {
      "cell_type": "code",
      "metadata": {
        "id": "wCFO7jx_RDsK",
        "colab": {
          "base_uri": "https://localhost:8080/"
        },
        "outputId": "56e623aa-59a8-49f3-aa59-243b80463c05"
      },
      "source": [
        "my_set = {\"peanut\", \"walnut\", \"pecan\"}\n",
        "my_set.add(\"cashew\")\n",
        "print(my_set)"
      ],
      "execution_count": null,
      "outputs": [
        {
          "output_type": "stream",
          "text": [
            "{'peanut', 'cashew', 'walnut', 'pecan'}\n"
          ],
          "name": "stdout"
        }
      ]
    },
    {
      "cell_type": "markdown",
      "metadata": {
        "id": "30ci6wsvRbNF"
      },
      "source": [
        "Adding a duplicate does nothing"
      ]
    },
    {
      "cell_type": "code",
      "metadata": {
        "id": "lB1YrkzdRKsb",
        "colab": {
          "base_uri": "https://localhost:8080/"
        },
        "outputId": "4b049d41-6fd8-4873-8264-c645b95a8748"
      },
      "source": [
        "my_set = {\"peanut\", \"walnut\", \"pecan\"}\n",
        "my_set.add(\"peanut\")\n",
        "print(my_set)"
      ],
      "execution_count": null,
      "outputs": [
        {
          "output_type": "stream",
          "text": [
            "{'peanut', 'walnut', 'pecan'}\n"
          ],
          "name": "stdout"
        }
      ]
    },
    {
      "cell_type": "markdown",
      "metadata": {
        "id": "1d7s8wLRRdZm"
      },
      "source": [
        "Because they are unordered, you cannot index into a set"
      ]
    },
    {
      "cell_type": "code",
      "metadata": {
        "id": "uEohe2FrRf-A",
        "colab": {
          "base_uri": "https://localhost:8080/",
          "height": 189
        },
        "outputId": "73aca51e-24a8-44d2-cbdd-51ec94d7a7cf"
      },
      "source": [
        "my_set = {\"peanut\", \"walnut\", \"pecan\"}\n",
        "my_set[0]"
      ],
      "execution_count": null,
      "outputs": [
        {
          "output_type": "error",
          "ename": "TypeError",
          "evalue": "ignored",
          "traceback": [
            "\u001b[0;31m---------------------------------------------------------------------------\u001b[0m",
            "\u001b[0;31mTypeError\u001b[0m                                 Traceback (most recent call last)",
            "\u001b[0;32m<ipython-input-51-c567523c99f7>\u001b[0m in \u001b[0;36m<module>\u001b[0;34m()\u001b[0m\n\u001b[1;32m      1\u001b[0m \u001b[0mmy_set\u001b[0m \u001b[0;34m=\u001b[0m \u001b[0;34m{\u001b[0m\u001b[0;34m\"peanut\"\u001b[0m\u001b[0;34m,\u001b[0m \u001b[0;34m\"walnut\"\u001b[0m\u001b[0;34m,\u001b[0m \u001b[0;34m\"pecan\"\u001b[0m\u001b[0;34m}\u001b[0m\u001b[0;34m\u001b[0m\u001b[0;34m\u001b[0m\u001b[0m\n\u001b[0;32m----> 2\u001b[0;31m \u001b[0mmy_set\u001b[0m\u001b[0;34m[\u001b[0m\u001b[0;36m0\u001b[0m\u001b[0;34m]\u001b[0m\u001b[0;34m\u001b[0m\u001b[0;34m\u001b[0m\u001b[0m\n\u001b[0m",
            "\u001b[0;31mTypeError\u001b[0m: 'set' object is not subscriptable"
          ]
        }
      ]
    },
    {
      "cell_type": "markdown",
      "metadata": {
        "id": "v935L6lPSBTB"
      },
      "source": [
        "Sets support many different operations with other sets, such as union and intersection"
      ]
    },
    {
      "cell_type": "code",
      "metadata": {
        "id": "peCim9c2SI15",
        "colab": {
          "base_uri": "https://localhost:8080/"
        },
        "outputId": "7918e827-0d54-4138-dfa3-254b329701a5"
      },
      "source": [
        "my_set_1 = {1, 2, 3, 4, 5}\n",
        "my_set_2 = {4, 5, 6, 7}\n",
        "print(my_set_1.union(my_set_2))\n",
        "print(my_set_1.intersection(my_set_2))"
      ],
      "execution_count": null,
      "outputs": [
        {
          "output_type": "stream",
          "text": [
            "{1, 2, 3, 4, 5, 6, 7}\n",
            "{4, 5}\n"
          ],
          "name": "stdout"
        }
      ]
    },
    {
      "cell_type": "markdown",
      "metadata": {
        "id": "t9yCRlg1FmeU"
      },
      "source": [
        "### Dictionary examples\n",
        "\n",
        "Dictionaries store (key, value) pairs. For example, suppose that we wanted to store what element each symbol on the periodic table corresponds to. For brevity we will only consider the first 4 elements. There are several ways to construct a dictionary. The first way would be to list out each key value pair separated by a colon `:`, inside curly braces `{}`. Note that the order does not matter, and the following are equivalent:"
      ]
    },
    {
      "cell_type": "code",
      "metadata": {
        "id": "Tt-ZbvAqGMo0"
      },
      "source": [
        "periodic_dict = {\"H\": \"hydrogen\", \"He\": \"helium\", \"Li\" : \"lithium\", \"Be\": \"beryllium\"}\n",
        "periodic_dict = {\"Be\": \"beryllium\", \"Li\" : \"lithium\", \"He\": \"helium\", \"H\": \"hydrogen\"}"
      ],
      "execution_count": null,
      "outputs": []
    },
    {
      "cell_type": "markdown",
      "metadata": {
        "id": "aewnR1MeG69S"
      },
      "source": [
        "Now we can access the values inside as follows:"
      ]
    },
    {
      "cell_type": "code",
      "metadata": {
        "id": "8g283BkrG-Vi",
        "colab": {
          "base_uri": "https://localhost:8080/",
          "height": 35
        },
        "outputId": "573ecf92-6548-45c8-cd72-0232fa63e9e7"
      },
      "source": [
        "periodic_dict[\"Be\"]"
      ],
      "execution_count": null,
      "outputs": [
        {
          "output_type": "execute_result",
          "data": {
            "application/vnd.google.colaboratory.intrinsic+json": {
              "type": "string"
            },
            "text/plain": [
              "'beryllium'"
            ]
          },
          "metadata": {
            "tags": []
          },
          "execution_count": 54
        }
      ]
    },
    {
      "cell_type": "markdown",
      "metadata": {
        "id": "YNboWMuYGw91"
      },
      "source": [
        "Alternatively, we can start by initializing an empty dictionary, and assign values to keys:"
      ]
    },
    {
      "cell_type": "code",
      "metadata": {
        "id": "xKMrbVhZG2XK"
      },
      "source": [
        "another_periodic_dict = dict()\n",
        "another_periodic_dict[\"H\"] = \"hydrogen\"\n",
        "another_periodic_dict[\"He\"] = \"helium\"\n",
        "another_periodic_dict[\"Li\"] = \"lithium\"\n",
        "another_periodic_dict[\"Be\"] = \"beryllium\""
      ],
      "execution_count": null,
      "outputs": []
    },
    {
      "cell_type": "markdown",
      "metadata": {
        "id": "BatvwX-FJdtL"
      },
      "source": [
        "We can also change the values already in the dictionary"
      ]
    },
    {
      "cell_type": "code",
      "metadata": {
        "id": "SAoaOXaLJhHi",
        "colab": {
          "base_uri": "https://localhost:8080/",
          "height": 35
        },
        "outputId": "01f28e1d-71b9-4803-9d8d-76a3c4a84acc"
      },
      "source": [
        "another_periodic_dict[\"H\"] = \"Heisenberg\"\n",
        "another_periodic_dict[\"H\"]"
      ],
      "execution_count": null,
      "outputs": [
        {
          "output_type": "execute_result",
          "data": {
            "application/vnd.google.colaboratory.intrinsic+json": {
              "type": "string"
            },
            "text/plain": [
              "'Heisenberg'"
            ]
          },
          "metadata": {
            "tags": []
          },
          "execution_count": 56
        }
      ]
    },
    {
      "cell_type": "markdown",
      "metadata": {
        "id": "5vH65-nEJMZ9"
      },
      "source": [
        "Note that the objects being used as keys and values do not all have to be the same type. For example, we can use a dictionary to store information about a person.\n",
        "\n",
        "Exercise: Complete the profile by adding some of your own values, such as age, favorite food, etc."
      ]
    },
    {
      "cell_type": "code",
      "metadata": {
        "id": "4OOx7KNNJX1X"
      },
      "source": [
        "Person_1 = dict()\n",
        "Person_1[\"first name\"] = \"John\"\n",
        "Person_1[\"last name\"] = \"Doe\"\n",
        "Person_1[\"age\"] = 25\n",
        "Person_1[\"favorite color\"] = \"blue\""
      ],
      "execution_count": null,
      "outputs": []
    },
    {
      "cell_type": "markdown",
      "metadata": {
        "id": "U_qZtQtELoSw"
      },
      "source": [
        "Exercise: Now suppose that three years have passed. Write code that increments the value corresponding to the `\"age\"` key by 3"
      ]
    },
    {
      "cell_type": "code",
      "metadata": {
        "id": "PwUjXML6Lo6f",
        "colab": {
          "base_uri": "https://localhost:8080/"
        },
        "outputId": "6d978afd-5416-4ab1-b593-d8271a08ea60"
      },
      "source": [
        "# Write your code below\n",
        "Person_1[\"age\"] += 3\n",
        "Person_1[\"age\"]"
      ],
      "execution_count": null,
      "outputs": [
        {
          "output_type": "execute_result",
          "data": {
            "text/plain": [
              "28"
            ]
          },
          "metadata": {
            "tags": []
          },
          "execution_count": 20
        }
      ]
    },
    {
      "cell_type": "markdown",
      "metadata": {
        "id": "1EuLsuf-MXiQ"
      },
      "source": [
        "## Comparators\n",
        "\n",
        "There are 8 comparison operations in Python, which are most commonly used for numeric types\n",
        "- `x` < `y`\n",
        "- `x` <= `y`\n",
        "- `x` > `y`\n",
        "- `x` >= `y`\n",
        "- `x` == `y`\n",
        "- `x` != `y`\n",
        "- `is`\n",
        "- `is not`\n",
        "\n",
        "These can also be used for other types, like sequences, where comparisons are done element wise."
      ]
    },
    {
      "cell_type": "code",
      "metadata": {
        "id": "vIp0-d9wMfDv",
        "colab": {
          "base_uri": "https://localhost:8080/"
        },
        "outputId": "2731257f-78d2-4575-9aac-526c3ec9e3c6"
      },
      "source": [
        "# Try it out!\n",
        "print(4 > 10)\n",
        "print(4 == 4)"
      ],
      "execution_count": null,
      "outputs": [
        {
          "output_type": "stream",
          "text": [
            "False\n",
            "True\n"
          ],
          "name": "stdout"
        }
      ]
    },
    {
      "cell_type": "markdown",
      "metadata": {
        "id": "q8-vyRWuNqer"
      },
      "source": [
        "The `is` operator is similar to the `==` operator, but checks object equality instead of value equality. We typically care about value equality, and will be mostly using `==`. Here is an example of when the two are different. Even though the lists store the same values, they are different objects. Modifying one list would not change the other."
      ]
    },
    {
      "cell_type": "code",
      "metadata": {
        "id": "PDyWH2nTMqOV",
        "colab": {
          "base_uri": "https://localhost:8080/"
        },
        "outputId": "c2836738-09ff-4d79-eaed-6084381d8baf"
      },
      "source": [
        "list_1 = [\"a\", \"b\"]\n",
        "list_2 = [\"a\", \"b\"]\n",
        "print(list_1 == list_2)\n",
        "print(list_1 is list_2)"
      ],
      "execution_count": null,
      "outputs": [
        {
          "output_type": "stream",
          "text": [
            "True\n",
            "False\n"
          ],
          "name": "stdout"
        }
      ]
    },
    {
      "cell_type": "markdown",
      "metadata": {
        "id": "SnRluCtyOGcF"
      },
      "source": [
        "## Conditional Statements\n",
        "\n",
        "Conditional statements are a way for your code to make decisions. Depending on whether the condition is `True` or `False`, a different section of code will be executed. The syntax for an `if` statement looks like\n",
        "\n",
        "```\n",
        "if condition:\n",
        "    code to be executed if condition is True\n",
        "\n",
        "code that will be executed regardless of whether condition is True or False\n",
        "```\n",
        "\n",
        "For example, the following code checks if `a` is larger than `b`, and if it is, prints the string `a is larger than b`. Try changing the values of `a` and `b` around"
      ]
    },
    {
      "cell_type": "code",
      "metadata": {
        "id": "w0gsM1uNH5YZ",
        "colab": {
          "base_uri": "https://localhost:8080/"
        },
        "outputId": "181b0ace-b429-4db4-825b-f6991edf5b3d"
      },
      "source": [
        "a = 5\n",
        "b = 2\n",
        "\n",
        "if a > b:\n",
        "    print(\"a is larger than b\")\n",
        "\n",
        "print(\"this line is always printed\")"
      ],
      "execution_count": null,
      "outputs": [
        {
          "output_type": "stream",
          "text": [
            "a is larger than b\n",
            "this line is always printed\n"
          ],
          "name": "stdout"
        }
      ]
    },
    {
      "cell_type": "markdown",
      "metadata": {
        "id": "zFsVTET2I01e"
      },
      "source": [
        "Here are a few details to keep in mind when writing `if` statements:\n",
        "*   The condition (`a > b` in this case) should always be followed by a colon (`:`)\n",
        "*   All the code you want to be executed if the condition is true should be indented once relative to the condition\n",
        "*   Once you have written all the code inside the `if` statement, unindent your code to signal you have exited the conditional\n",
        "\n",
        "In many cases, there is also specific code that you want to execute if the condition is `False`. Then we can use an `if ... else ...` statement. The syntax is similar."
      ]
    },
    {
      "cell_type": "code",
      "metadata": {
        "id": "3r-IyYDAKAgU",
        "colab": {
          "base_uri": "https://localhost:8080/"
        },
        "outputId": "7b1596df-9c15-48e3-a6e2-0483a4524865"
      },
      "source": [
        "a = 5\n",
        "b = 7\n",
        "\n",
        "if a > b:\n",
        "    print(\"a is larger than b\")\n",
        "elif a < b:\n",
        "    print(\"a is less than b\")\n",
        "else:\n",
        "    print(\"a is equal to b\")\n",
        "\n",
        "print(\"this line is always printed\")"
      ],
      "execution_count": null,
      "outputs": [
        {
          "output_type": "stream",
          "text": [
            "a is less than b\n",
            "this line is always printed\n"
          ],
          "name": "stdout"
        }
      ]
    },
    {
      "cell_type": "markdown",
      "metadata": {
        "id": "nOMpermDJ93g"
      },
      "source": [
        "Exercise: Try using a conditional statement to print `a is even` if  `a` is divisible by 2, and `a is odd` otherwise"
      ]
    },
    {
      "cell_type": "code",
      "metadata": {
        "id": "uDfu8C_6I0Vc",
        "colab": {
          "base_uri": "https://localhost:8080/"
        },
        "outputId": "a719f614-f378-4fe2-b580-444e39fca1aa"
      },
      "source": [
        "a = 10\n",
        "# Write your code below\n",
        "if a%2==1:\n",
        "    print(\"a is odd\")\n",
        "else:\n",
        "    print(\"a is even\")"
      ],
      "execution_count": null,
      "outputs": [
        {
          "output_type": "stream",
          "text": [
            "a is even\n"
          ],
          "name": "stdout"
        }
      ]
    },
    {
      "cell_type": "markdown",
      "metadata": {
        "id": "kDJ7lXMQLW6J"
      },
      "source": [
        "If there are more two possible branches, we can use `elif` statements, which are short for \"else if\". For example, suppose a park has different prices for kids, adults, and seniors. To print the price, we can do the following:"
      ]
    },
    {
      "cell_type": "code",
      "metadata": {
        "id": "T-9vtBMHIuW7"
      },
      "source": [
        "age = 30\n",
        "\n",
        "if age < 18:\n",
        "    print(\"The price is 5 dollars\")\n",
        "elif age < 65:\n",
        "    print(\"The price is 15 dollars\")\n",
        "else:\n",
        "    print(\"The price is 0 dollars\")"
      ],
      "execution_count": null,
      "outputs": []
    },
    {
      "cell_type": "markdown",
      "metadata": {
        "id": "bBgLv623MfRi"
      },
      "source": [
        "We can also combine multiple conditions in 1. For example, to check if a number is divisible by 2 but not 3, we can use the following code:"
      ]
    },
    {
      "cell_type": "code",
      "metadata": {
        "id": "8FFDO0EQL-18"
      },
      "source": [
        "a = 3\n",
        "if a%2 == 0 and a%3 != 0:\n",
        "    print(\"a is divisible by 2 but not 3\")"
      ],
      "execution_count": null,
      "outputs": []
    },
    {
      "cell_type": "markdown",
      "metadata": {
        "id": "QHR_IbcJNGYO"
      },
      "source": [
        "Exercise: Given a variable `a`, print which of the following categories it belongs to using conditional statements:\n",
        "\n",
        "*   Not divisible by 2 or 3 \n",
        "*   Divisible by 2 but not 3\n",
        "*   Divisible by 3 but not 2\n",
        "*   Divisible by 2 and 3\n",
        "\n"
      ]
    },
    {
      "cell_type": "code",
      "metadata": {
        "id": "UnkC4LdlMsQG",
        "colab": {
          "base_uri": "https://localhost:8080/"
        },
        "outputId": "686ca12c-9706-4dc0-b7fa-4e3f79b7cc01"
      },
      "source": [
        "a = 35\n",
        "# Write your code below\n",
        "if a%2 != 0 and a%3 != 0:\n",
        "    print('A is not divisible by 2 or 3')\n",
        "elif a%2 == 0 and a%3 != 0:\n",
        "    print('a is divisible by 2 but not 3')\n",
        "elif a%2 != 0 and a%3 == 0:\n",
        "    print('a is divisible by 3 but not 2')\n",
        "elif a%2 == 0 and a%3 == 0:\n",
        "    print('a is divisible by 2 and 3')\n",
        "\n",
        "if a%2==0:\n",
        "    if a%3==0:\n",
        "        print('a is divisible by 2 and 3')\n",
        "    else:\n",
        "        print('a is divisible by 2 and but not 3')\n",
        "else:\n",
        "    if a%3==0:\n",
        "        print('a is not divisible by 2 but divisible by 3')\n",
        "    else:\n",
        "        print('a is not divisible by 2 or 3')"
      ],
      "execution_count": null,
      "outputs": [
        {
          "output_type": "stream",
          "text": [
            "A is not divisible by 2 or 3\n"
          ],
          "name": "stdout"
        }
      ]
    },
    {
      "cell_type": "code",
      "metadata": {
        "id": "32c4nKEC9uaX"
      },
      "source": [
        "if a%2 != 0 and a%3 != 0:\n",
        "    print('A is not divisible by 2 or 3')\n",
        "else if a%2 == 0 and a%3 != 0:\n",
        "    print('a is divisible by 2 but not 3')\n",
        "else:\n",
        "    # do nothing"
      ],
      "execution_count": null,
      "outputs": []
    },
    {
      "cell_type": "markdown",
      "metadata": {
        "id": "zQR8RO3WWFnI"
      },
      "source": [
        "## Loops and iterators"
      ]
    },
    {
      "cell_type": "markdown",
      "metadata": {
        "id": "468jTHSINd0j"
      },
      "source": [
        "### For loops\n",
        "\n",
        "It is extremely common to perform operations on a collection of objects, and this is where we use loops. For example, suppose we want to print out each item in a list. This can be achieved using a `for` loop:"
      ]
    },
    {
      "cell_type": "code",
      "metadata": {
        "id": "RLSvkTXUOmm_",
        "colab": {
          "base_uri": "https://localhost:8080/"
        },
        "outputId": "c3d6cd95-6a4a-45fd-b2d4-974d1acb108a"
      },
      "source": [
        "my_list = [\"apple\", \"banana\", \"cherry\"]\n",
        "for x in my_list:\n",
        "    print(x)"
      ],
      "execution_count": null,
      "outputs": [
        {
          "output_type": "stream",
          "text": [
            "apple\n",
            "banana\n",
            "cherry\n"
          ],
          "name": "stdout"
        }
      ]
    },
    {
      "cell_type": "markdown",
      "metadata": {
        "id": "mNSXe2bLOwqx"
      },
      "source": [
        "The syntax used `for` loops is similar to that of an `if` statement.\n",
        "\n",
        "```\n",
        "for my_var in my_iterable:\n",
        "    code to be executed with my_var\n",
        "\n",
        "code that will be executed afterwards\n",
        "```\n",
        "\n",
        "The `for` statment is ended by a colon `:` and the body of the `for` statment is indented. The next piece that you want to pay attention to is\n",
        "\n",
        "`my_var in my_iterable`\n",
        "\n",
        "This means that we will go through each item in `my_iterable`, which is typically a list, assign its value to the variable `my_var`, and run the code in the body of the loop, which in the above example prints the value.\n",
        "\n",
        "Exercise: Use a for loop to print all the items in the following list of numbers"
      ]
    },
    {
      "cell_type": "code",
      "metadata": {
        "id": "RSYeyD_5O_gZ",
        "colab": {
          "base_uri": "https://localhost:8080/"
        },
        "outputId": "3ef18ca3-d613-45ab-c95f-e5cde3202678"
      },
      "source": [
        "list_of_numbers = [1, 6, 2, 7, 2]\n",
        "# Write your code below\n",
        "for i in list_of_numbers:\n",
        "    print(i)"
      ],
      "execution_count": null,
      "outputs": [
        {
          "output_type": "stream",
          "text": [
            "1\n",
            "6\n",
            "2\n",
            "7\n",
            "2\n"
          ],
          "name": "stdout"
        }
      ]
    },
    {
      "cell_type": "markdown",
      "metadata": {
        "id": "6XVeWDOLP40B"
      },
      "source": [
        "Exercise: Use a `for` loop to add all the items in the following list of numbers, then print the result. You can create your own variable to hold intermediate results"
      ]
    },
    {
      "cell_type": "code",
      "metadata": {
        "id": "gXPyT6tIOurB",
        "colab": {
          "base_uri": "https://localhost:8080/"
        },
        "outputId": "ddad598b-8575-49e7-cb11-b1ad8d9269f2"
      },
      "source": [
        "list_of_numbers = [1, 6, 2, 7, 2]\n",
        "# Write your code below\n",
        "sum_of_list = 0\n",
        "for list_element in list_of_numbers:\n",
        "    sum_of_list += list_element\n",
        "print(sum_of_list)"
      ],
      "execution_count": null,
      "outputs": [
        {
          "output_type": "execute_result",
          "data": {
            "text/plain": [
              "18"
            ]
          },
          "metadata": {
            "tags": []
          },
          "execution_count": 7
        }
      ]
    },
    {
      "cell_type": "markdown",
      "metadata": {
        "id": "sxc3X6iHQOzh"
      },
      "source": [
        "You can put `if` statements inside a `for` loop (and vice versa).\n",
        "\n",
        "Exercise: Use a `for` loop to iterate through the list of numbers and if it is even print the number"
      ]
    },
    {
      "cell_type": "code",
      "metadata": {
        "id": "_4iYd2L7QOFQ",
        "colab": {
          "base_uri": "https://localhost:8080/"
        },
        "outputId": "9898542f-7c60-42ec-ee1e-4002c51b008c"
      },
      "source": [
        "list_of_numbers = [1, 6, 2, 7, 2]\n",
        "# Write your code below\n",
        "for i in list_of_numbers:\n",
        "    if i%2 == 0:\n",
        "        print(i)"
      ],
      "execution_count": null,
      "outputs": [
        {
          "output_type": "stream",
          "text": [
            "6\n",
            "2\n",
            "2\n"
          ],
          "name": "stdout"
        }
      ]
    },
    {
      "cell_type": "markdown",
      "metadata": {
        "id": "VzyRRFfERlkZ"
      },
      "source": [
        "Exercise: Instead of printing all the even numbers, create a set of all unique even numbers and print the set at the end"
      ]
    },
    {
      "cell_type": "code",
      "metadata": {
        "id": "ck5YMmodQLm5",
        "colab": {
          "base_uri": "https://localhost:8080/"
        },
        "outputId": "f08c3020-a874-423c-e8dd-c5afea432be1"
      },
      "source": [
        "list_of_numbers = [1, 6, 2, 7, 2]\n",
        "# Write your code below\n",
        "my_even_set = set()\n",
        "for i in list_of_numbers:\n",
        "    if i%2 == 0:\n",
        "        my_even_set.add(i)\n",
        "\n",
        "print(my_even_set)"
      ],
      "execution_count": null,
      "outputs": [
        {
          "output_type": "stream",
          "text": [
            "{2, 6}\n"
          ],
          "name": "stdout"
        }
      ]
    },
    {
      "cell_type": "markdown",
      "metadata": {
        "id": "KHK9JAxfYSQ3"
      },
      "source": [
        "Exercise: Use a `for` loop to combine all the words in the following list. Then, build a set from the letters and use it to count the number of unique letters in the list"
      ]
    },
    {
      "cell_type": "code",
      "metadata": {
        "id": "jYgRZLAjYRlO"
      },
      "source": [
        "my_list = [\"the\", \"quick\", \"brown\", \"fox\", \"jumps\", \"over\", \"the\", \"lazy\", \"dog\"]\n",
        "# Write your code below\n"
      ],
      "execution_count": null,
      "outputs": []
    },
    {
      "cell_type": "markdown",
      "metadata": {
        "id": "LO6kkFJYSfBP"
      },
      "source": [
        "### Range\n",
        "\n",
        "The `range` function is commonly used in `for` loops. `range(my_int)` returns an iterator that goes from 0 to `my_int - 1`. It is similar to a list but not exactly the same."
      ]
    },
    {
      "cell_type": "code",
      "metadata": {
        "id": "owEi4WyQS3aG",
        "colab": {
          "base_uri": "https://localhost:8080/"
        },
        "outputId": "543b81e8-b3cb-490d-d695-b7897cb7cb4b"
      },
      "source": [
        "for i in range(5):\n",
        "    print(i)"
      ],
      "execution_count": null,
      "outputs": [
        {
          "output_type": "stream",
          "text": [
            "0\n",
            "1\n",
            "2\n",
            "3\n",
            "4\n"
          ],
          "name": "stdout"
        }
      ]
    },
    {
      "cell_type": "code",
      "metadata": {
        "id": "g-XZM4iUS6Ei",
        "colab": {
          "base_uri": "https://localhost:8080/"
        },
        "outputId": "ee382381-af91-4bc1-e267-b5664d909713"
      },
      "source": [
        "list(range(5))"
      ],
      "execution_count": null,
      "outputs": [
        {
          "output_type": "execute_result",
          "data": {
            "text/plain": [
              "[0, 1, 2, 3, 4]"
            ]
          },
          "metadata": {
            "tags": []
          },
          "execution_count": 9
        }
      ]
    },
    {
      "cell_type": "markdown",
      "metadata": {
        "id": "Bjd8eXQXTEVT"
      },
      "source": [
        "It can also take additional arguments. `range(start, end)` returns an iterator from `start` to `end - 1` inclusive, and `range(start, end, step)` returns a similar iterator, but increments by `step` instead of 1"
      ]
    },
    {
      "cell_type": "code",
      "metadata": {
        "id": "kvXA9_b6S7TD",
        "colab": {
          "base_uri": "https://localhost:8080/"
        },
        "outputId": "cd552f17-e74b-44d1-8a90-c5b75e1fa6de"
      },
      "source": [
        "for i in range(2, 7):\n",
        "    print(i)"
      ],
      "execution_count": null,
      "outputs": [
        {
          "output_type": "stream",
          "text": [
            "2\n",
            "3\n",
            "4\n",
            "5\n",
            "6\n"
          ],
          "name": "stdout"
        }
      ]
    },
    {
      "cell_type": "code",
      "metadata": {
        "id": "01xmaIyBTWXf",
        "colab": {
          "base_uri": "https://localhost:8080/"
        },
        "outputId": "350623aa-9561-48f2-d49c-0c295639de60"
      },
      "source": [
        "for i in range(2, 13, 4):\n",
        "    print(i)"
      ],
      "execution_count": null,
      "outputs": [
        {
          "output_type": "stream",
          "text": [
            "2\n",
            "6\n",
            "10\n"
          ],
          "name": "stdout"
        }
      ]
    },
    {
      "cell_type": "markdown",
      "metadata": {
        "id": "A42LQEyVTg9B"
      },
      "source": [
        "This is very useful when we want to perform an action a fixed number of times"
      ]
    },
    {
      "cell_type": "code",
      "metadata": {
        "id": "TDCLzjq1TgUT",
        "colab": {
          "base_uri": "https://localhost:8080/"
        },
        "outputId": "94122233-2138-45e4-fe8b-56bcd5eeb128"
      },
      "source": [
        "for i in range(5):\n",
        "    print(\"I want to print this five times\")"
      ],
      "execution_count": null,
      "outputs": [
        {
          "output_type": "stream",
          "text": [
            "I want to print this five times\n",
            "I want to print this five times\n",
            "I want to print this five times\n",
            "I want to print this five times\n",
            "I want to print this five times\n"
          ],
          "name": "stdout"
        }
      ]
    },
    {
      "cell_type": "markdown",
      "metadata": {
        "id": "p-TIdn1YTp2j"
      },
      "source": [
        "Or when we want to iterate over a list"
      ]
    },
    {
      "cell_type": "code",
      "metadata": {
        "id": "C05gvlfgTYII",
        "colab": {
          "base_uri": "https://localhost:8080/"
        },
        "outputId": "6b4f2d4d-4d2c-4450-fe43-d9a4f34e5d08"
      },
      "source": [
        "my_list = [4, 2, 7, 3, 7, 3]\n",
        "for i in range(len(my_list)):\n",
        "    print(i, my_list[i])"
      ],
      "execution_count": null,
      "outputs": [
        {
          "output_type": "stream",
          "text": [
            "0 4\n",
            "1 2\n",
            "2 7\n",
            "3 3\n",
            "4 7\n",
            "5 3\n"
          ],
          "name": "stdout"
        }
      ]
    },
    {
      "cell_type": "markdown",
      "metadata": {
        "id": "er9fkWXK8xiq"
      },
      "source": [
        "Exercise: Use `for` loops to sum the numbers in the following list"
      ]
    },
    {
      "cell_type": "code",
      "metadata": {
        "id": "Dz0uat4Q8wbj",
        "colab": {
          "base_uri": "https://localhost:8080/"
        },
        "outputId": "c381085e-46d9-4f82-9402-3b54a1b958f7"
      },
      "source": [
        "my_list = [0, 1, 2, 3, 4, 5, 6, 7, 8, 9]\n",
        "# Write your code below\n",
        "sum = 0\n",
        "for i in my_list:\n",
        "    sum += i\n",
        "print(sum)"
      ],
      "execution_count": null,
      "outputs": [
        {
          "output_type": "stream",
          "text": [
            "45\n"
          ],
          "name": "stdout"
        }
      ]
    },
    {
      "cell_type": "markdown",
      "metadata": {
        "id": "708PszPzUNJP"
      },
      "source": [
        "Exercise: Use `for` loops and `range` to sum the numbers from 1 to 9 inclusive"
      ]
    },
    {
      "cell_type": "code",
      "metadata": {
        "id": "DaIsHKpaUHJ2",
        "colab": {
          "base_uri": "https://localhost:8080/"
        },
        "outputId": "91c16a2a-155f-427d-f000-397b87992a66"
      },
      "source": [
        "# Write your code below\n",
        "sum = 0\n",
        "for i in range(1, 10):\n",
        "    sum = sum + i\n",
        "print(sum)"
      ],
      "execution_count": null,
      "outputs": [
        {
          "output_type": "stream",
          "text": [
            "45\n"
          ],
          "name": "stdout"
        }
      ]
    },
    {
      "cell_type": "markdown",
      "metadata": {
        "id": "yxVjM_aMkCaC"
      },
      "source": [
        "Exercise: Use for loops and range to sum the cubes of the odd numbers between 1 and 9 inclusive"
      ]
    },
    {
      "cell_type": "code",
      "metadata": {
        "id": "UROArXUHkSty",
        "colab": {
          "base_uri": "https://localhost:8080/"
        },
        "outputId": "ba04d86c-a33d-449a-955a-c492b40a1517"
      },
      "source": [
        "# Write your code below\n",
        "sum = 0\n",
        "for i in range(1, 10):\n",
        "    if i%2 != 0:\n",
        "        sum = sum + i**3\n",
        "print(sum)"
      ],
      "execution_count": null,
      "outputs": [
        {
          "output_type": "stream",
          "text": [
            "1225\n"
          ],
          "name": "stdout"
        }
      ]
    },
    {
      "cell_type": "markdown",
      "metadata": {
        "id": "uh3kbe0LnaAY"
      },
      "source": [
        "Exercise: Print a right handed right triangle of height 10. A right handed right triangle of height 3 looks like\n",
        "\n",
        "```\n",
        "  *\n",
        " **\n",
        "***\n",
        "```"
      ]
    },
    {
      "cell_type": "code",
      "metadata": {
        "id": "23_OEAT-nn8Z"
      },
      "source": [
        "# Write your code below\n"
      ],
      "execution_count": null,
      "outputs": []
    },
    {
      "cell_type": "markdown",
      "metadata": {
        "id": "gk48__fIUURJ"
      },
      "source": [
        "Exercise: Use `for` loops and `range` to calculate the 15th Fibonacci number.\n",
        "\n",
        "The zeroth and first Fibonacci numbers are 0 and 1, and every Fibonacci number thereafter is the sum of the previous two Fibonacci numbers. So, the sequence starts off like:\n",
        "\n",
        "0, 1, 1, 2, 3, 5, ...\n"
      ]
    },
    {
      "cell_type": "code",
      "metadata": {
        "id": "nMGdP8NgVfAg"
      },
      "source": [
        "# Write your code below\n",
        "a = 1 # odd sequence\n",
        "b = 1 # even sequence\n",
        "odd = True\n",
        "for i in range(int(input(\"Sequence number: \"))-2):\n",
        "  if odd == True:\n",
        "    a = a + b\n",
        "    odd = False\n",
        "  else:\n",
        "    b = a + b\n",
        "    odd = True\n",
        "\n",
        "if odd == False:\n",
        "  print(a)\n",
        "if odd == True:\n",
        "  print(b)\n"
      ],
      "execution_count": null,
      "outputs": []
    },
    {
      "cell_type": "markdown",
      "metadata": {
        "id": "PWvkyOsAV3TA"
      },
      "source": [
        "### While loops\n",
        "\n",
        "Sometimes, we don't know the number of loops we want to do beforehand, which makes it difficult to use a `for` loop. Instead, we might want to do something as long as a certain condition is `True`, which is where `while` loops come in. Be careful though, if the condition is never broken, your code will get stuck in an infinite loop. \n",
        "\n",
        "The syntax is similar to an `if`statement, and looks like\n",
        "\n",
        "```\n",
        "while condition:\n",
        "    code to be executed while the condition is True\n",
        "\n",
        "code that will be executed afterwards\n",
        "```\n",
        "For example, lets print the value of our variable and add 5 while it is less than 20"
      ]
    },
    {
      "cell_type": "code",
      "metadata": {
        "id": "iiNxS8VCVtsn",
        "colab": {
          "base_uri": "https://localhost:8080/"
        },
        "outputId": "0e5a4f39-73a5-42e2-88f6-ad365c278ee5"
      },
      "source": [
        "a = 2\n",
        "while a < 20:\n",
        "    print(a)\n",
        "    a += 5"
      ],
      "execution_count": null,
      "outputs": [
        {
          "output_type": "stream",
          "text": [
            "2\n",
            "7\n",
            "12\n",
            "17\n"
          ],
          "name": "stdout"
        }
      ]
    },
    {
      "cell_type": "markdown",
      "metadata": {
        "id": "3F0-GrYd8nvG"
      },
      "source": [
        "Exercise: Use a while loop to print the numbers from 1 to 10"
      ]
    },
    {
      "cell_type": "code",
      "metadata": {
        "id": "INfv2Ziz4qBG",
        "colab": {
          "base_uri": "https://localhost:8080/"
        },
        "outputId": "86f810f4-153e-406d-f0af-b507735913b6"
      },
      "source": [
        "# Write your code below\n",
        "loops = 1\n",
        "while loops <= 10:\n",
        "    print(loops)\n",
        "    loops += 1"
      ],
      "execution_count": null,
      "outputs": [
        {
          "output_type": "stream",
          "text": [
            "1\n",
            "2\n",
            "3\n",
            "4\n",
            "5\n",
            "6\n",
            "7\n",
            "8\n",
            "9\n",
            "10\n"
          ],
          "name": "stdout"
        }
      ]
    },
    {
      "cell_type": "markdown",
      "metadata": {
        "id": "MU2z0jA88-kW"
      },
      "source": [
        "### `break`, `continue`, `pass`\n",
        "\n",
        "`break`, `continue`, and `pass` are three special statements that can be used to manipulate loop logic. `break` will exit a loop immediately. For example, we can use this to stop the following loop when `i` is equal to 2, instead of iterating through 5."
      ]
    },
    {
      "cell_type": "code",
      "metadata": {
        "id": "y98SBMTE8g_J",
        "colab": {
          "base_uri": "https://localhost:8080/"
        },
        "outputId": "4a1106b4-d4ea-449d-ef0b-89eb8f74422e"
      },
      "source": [
        "for i in range(5):\n",
        "    print(i)\n",
        "    if i == 2:\n",
        "        break"
      ],
      "execution_count": null,
      "outputs": [
        {
          "output_type": "stream",
          "text": [
            "0\n",
            "1\n",
            "2\n"
          ],
          "name": "stdout"
        }
      ]
    },
    {
      "cell_type": "markdown",
      "metadata": {
        "id": "oz-cHmxj-PXE"
      },
      "source": [
        "`pass` is used mostly as a placeholder. The inner blocks of an `if` statement or a `for` loops are not allowed to be empty, so if we are not sure what we want to put there we can write `pass` instead"
      ]
    },
    {
      "cell_type": "code",
      "metadata": {
        "id": "adDOfgww9qQz",
        "colab": {
          "base_uri": "https://localhost:8080/"
        },
        "outputId": "2fdde7b9-97ba-4c24-fd15-356bb8854be0"
      },
      "source": [
        "for i in range(5):\n",
        "    print(i)\n",
        "    if i == 2:\n",
        "        # Do something special but we're not sure yet\n",
        "        pass"
      ],
      "execution_count": null,
      "outputs": [
        {
          "output_type": "stream",
          "text": [
            "0\n",
            "1\n",
            "2\n",
            "3\n",
            "4\n"
          ],
          "name": "stdout"
        }
      ]
    },
    {
      "cell_type": "markdown",
      "metadata": {
        "id": "6fxEcjwN-hvx"
      },
      "source": [
        "`continue` skips the rest of the current loop and moves onto the next loop. Here hello is printed after every number except for 2, because when `i` is equal to 2 the second print statement is skipped.\n"
      ]
    },
    {
      "cell_type": "code",
      "metadata": {
        "id": "zgfshY9D-bp7",
        "colab": {
          "base_uri": "https://localhost:8080/"
        },
        "outputId": "0ed82c76-23eb-414f-cb8a-ad6c244d6ea6"
      },
      "source": [
        "for i in range(5):\n",
        "    print(i)\n",
        "    if i == 2:\n",
        "        continue\n",
        "    print(\"hello\")\n"
      ],
      "execution_count": null,
      "outputs": [
        {
          "output_type": "stream",
          "text": [
            "0\n",
            "hello\n",
            "1\n",
            "hello\n",
            "2\n",
            "3\n",
            "hello\n",
            "4\n",
            "hello\n"
          ],
          "name": "stdout"
        }
      ]
    },
    {
      "cell_type": "markdown",
      "metadata": {
        "id": "BbWqMnTX_S2n"
      },
      "source": [
        "## Functions"
      ]
    },
    {
      "cell_type": "markdown",
      "metadata": {
        "id": "ry4kQ6iE_XFc"
      },
      "source": [
        "When writing code, you'll find that you will want to do a similar operation repeatedly. For example, suppose that you are converting temperatures from Fahrenheit to Celsius\n",
        "\n",
        "The conversion formula is\n",
        "\n",
        "`C = (F - 32)*5/9`\n",
        "\n",
        "where C is the temperature in Celsius and F is the temperature in Fahrenheit. We could write this every time we need to convert the temperature, but if we mistype or otherwise make a mistake anywhere, it would be very difficult detect or isolate the error. So, instead we write a function that performs this operation. The syntax for a function is as follows\n",
        "\n",
        "```\n",
        "def my_function_name(input_1, input_2, input_3, ...):\n",
        "    do stuff with inputs\n",
        "    return my_return_value\n",
        "```\n",
        "To use the function, simply call it with the values you want\n",
        "```\n",
        "my_function_name(val_1, val_2, val_3, ...)\n",
        "```\n",
        "So, a function that does the above conversion might look like this"
      ]
    },
    {
      "cell_type": "code",
      "metadata": {
        "id": "mejxMHPw_Wec",
        "colab": {
          "base_uri": "https://localhost:8080/"
        },
        "outputId": "6acf5e68-65a3-4d7b-c77c-0af4929fef7f"
      },
      "source": [
        "def convert_to_celsius(temp_in_fahrenheit):\n",
        "    temp_in_celsius = (temp_in_fahrenheit - 32)*5/9\n",
        "    return temp_in_celsius\n",
        "\n",
        "print(convert_to_celsius(32))\n",
        "print(convert_to_celsius(212))\n",
        "print(convert_to_celsius(-40))"
      ],
      "execution_count": null,
      "outputs": [
        {
          "output_type": "stream",
          "text": [
            "0.0\n",
            "100.0\n",
            "-40.0\n"
          ],
          "name": "stdout"
        }
      ]
    },
    {
      "cell_type": "markdown",
      "metadata": {
        "id": "xYHGuCP2Bpfe"
      },
      "source": [
        "Functions can take multiple inputs, or no inputs at all. They can return lists, tuples, or nothing at all."
      ]
    },
    {
      "cell_type": "code",
      "metadata": {
        "id": "vNwyuvq4BGvS",
        "colab": {
          "base_uri": "https://localhost:8080/"
        },
        "outputId": "b0bf0491-bb21-498f-fca2-8d8b3d90de5c"
      },
      "source": [
        "def adds_two_numbers(num_1, num_2):\n",
        "    return num_1 + num_2\n",
        "\n",
        "def say_hello():\n",
        "    print(\"hello\")\n",
        "    return None\n",
        "\n",
        "def adds_subtracts_and_multiplies(num_1, num_2):\n",
        "    return [num_1 + num_2, num_1 - num_2, num_1*num_2]\n",
        "\n",
        "x = say_hello()"
      ],
      "execution_count": null,
      "outputs": [
        {
          "output_type": "stream",
          "text": [
            "9\n",
            "hello\n",
            "None\n",
            "[9, -1, 20]\n"
          ],
          "name": "stdout"
        }
      ]
    },
    {
      "cell_type": "code",
      "metadata": {
        "id": "QxrrHjysPmgf"
      },
      "source": [
        "def my_function(i):\n",
        "    i += 1\n",
        "    print(i)"
      ],
      "execution_count": null,
      "outputs": []
    },
    {
      "cell_type": "code",
      "metadata": {
        "colab": {
          "base_uri": "https://localhost:8080/"
        },
        "id": "s9hPda1EP2_V",
        "outputId": "8f3cc8e8-28d0-409c-858a-f3f2ab193ea8"
      },
      "source": [
        "my_function(5)"
      ],
      "execution_count": null,
      "outputs": [
        {
          "output_type": "stream",
          "text": [
            "6\n"
          ],
          "name": "stdout"
        }
      ]
    },
    {
      "cell_type": "code",
      "metadata": {
        "colab": {
          "base_uri": "https://localhost:8080/"
        },
        "id": "kh5vRW8ZP7lX",
        "outputId": "d8e2fb73-c5ae-4739-9fd2-e3a93f4e2d5b"
      },
      "source": [
        "my_global = 0\n",
        "\n",
        "def my_function():\n",
        "    global my_global\n",
        "    my_global +=1\n",
        "    # do other stuff\n",
        "\n",
        "my_function()\n",
        "\n",
        "print(my_global) "
      ],
      "execution_count": null,
      "outputs": [
        {
          "output_type": "stream",
          "text": [
            "1\n"
          ],
          "name": "stdout"
        }
      ]
    },
    {
      "cell_type": "markdown",
      "metadata": {
        "id": "gIKg5m5rDGUU"
      },
      "source": [
        "Exercise: Write a function that takes a string as input, then repeats it three times with spaces in between. For example, if the input is \"Yarn\", the output should be \"Yarn Yarn Yarn\""
      ]
    },
    {
      "cell_type": "code",
      "metadata": {
        "id": "Ja-vRkoiCFaR"
      },
      "source": [
        "# Write your code below\n",
        "def repeat_three_times(input_string):\n",
        "    return input_string + \" \" + input_string + \" \" + input_string"
      ],
      "execution_count": null,
      "outputs": []
    },
    {
      "cell_type": "code",
      "metadata": {
        "colab": {
          "base_uri": "https://localhost:8080/",
          "height": 35
        },
        "id": "By6dQplhRQdU",
        "outputId": "3c029dc9-151a-4d9a-c845-982e7a2583d7"
      },
      "source": [
        "repeat_three_times(\"Yarn\")"
      ],
      "execution_count": null,
      "outputs": [
        {
          "output_type": "execute_result",
          "data": {
            "application/vnd.google.colaboratory.intrinsic+json": {
              "type": "string"
            },
            "text/plain": [
              "'Yarn Yarn Yarn'"
            ]
          },
          "metadata": {
            "tags": []
          },
          "execution_count": 15
        }
      ]
    },
    {
      "cell_type": "markdown",
      "metadata": {
        "id": "cdXF3OASmWS2"
      },
      "source": [
        "Exercise: Given a integer input `k`, print `*`'s in an isosceles triangle of height `k`. For example, given 3, print\n",
        "\n",
        "\n",
        "```\n",
        "  *\n",
        " ***\n",
        "*****\n",
        "```"
      ]
    },
    {
      "cell_type": "code",
      "metadata": {
        "id": "IrXmeBAxnLK3"
      },
      "source": [
        "# Write your code below\n"
      ],
      "execution_count": null,
      "outputs": []
    },
    {
      "cell_type": "markdown",
      "metadata": {
        "id": "BjjqDs55Dbki"
      },
      "source": [
        "Exercise: Write a function that takes a positive integer `k` as input, then returns the `k`th Fibonacci number"
      ]
    },
    {
      "cell_type": "code",
      "metadata": {
        "id": "YhnAW5IvDiOG"
      },
      "source": [
        "# Write your code below\n"
      ],
      "execution_count": null,
      "outputs": []
    },
    {
      "cell_type": "markdown",
      "metadata": {
        "id": "sb0yHlrWUhrq"
      },
      "source": [
        "## Modules\n",
        "\n",
        "Of course, many functions have already been written before, and it would be very inefficient to have to write everything from scratch yourself every time. We can use other people's code by importing them as packages and modules. There are several ways to do this; as an example suppose we want to use the `sqrt` function from the `math` module\n",
        "\n",
        "The basic syntax is as follows: we import the module and use its functions by prefixing the function with the module name, separated by a dot\n",
        "```\n",
        "import math\n",
        "math.sqrt(2)\n",
        "```\n",
        "If we don't want to have to write out `math` every time we use a function from that module, we can create our own name for the module\n",
        "```\n",
        "import math as m\n",
        "m.sqrt(2)\n",
        "```\n",
        "Alternatively, if we only want the specific function `sqrt` from the math module, we can import just that function and not have to use any prefixes\n",
        "```\n",
        "from math import sqrt\n",
        "sqrt(2)\n",
        "```\n"
      ]
    },
    {
      "cell_type": "markdown",
      "metadata": {
        "id": "RPOijZluV_xN"
      },
      "source": [
        "Exercise: Use the `gcd` function from the `math` module to calculate the gcd of `1634614` and `1234014380`"
      ]
    },
    {
      "cell_type": "code",
      "metadata": {
        "id": "jSLOtlYhV1Qh",
        "colab": {
          "base_uri": "https://localhost:8080/"
        },
        "outputId": "d7a5e948-3bc7-4736-e92d-5a20ce353e1c"
      },
      "source": [
        "# Write your code below\n",
        "import math\n",
        "math.gcd(1634614, 1234014380)"
      ],
      "execution_count": null,
      "outputs": [
        {
          "output_type": "execute_result",
          "data": {
            "text/plain": [
              "58"
            ]
          },
          "metadata": {
            "tags": []
          },
          "execution_count": 16
        }
      ]
    },
    {
      "cell_type": "markdown",
      "metadata": {
        "id": "lvWD3ZyeWlK9"
      },
      "source": [
        "### Packages\n",
        "Modules can be organized into packages, which introduces a hierarchical structure. The NumPy package is a very useful package in Python, and contains many modules. One such module is the `random` module, which contains a function called `randint`, which generates a random integer between 0 and your input. There are several different ways to access this function to generate a number between 0 and 5.\n",
        "\n",
        "```\n",
        "import numpy as np\n",
        "np.random.randint(5)\n",
        "```\n",
        "\n",
        "```\n",
        "from numpy import random\n",
        "random.randint(5)\n",
        "```\n",
        "\n",
        "```\n",
        "from numpy.random import randint\n",
        "randint(5)\n",
        "```\n",
        "\n",
        "These are the most common ways to access a function in a package, but by no means is this list exhaustive."
      ]
    },
    {
      "cell_type": "markdown",
      "metadata": {
        "id": "d6OzdrQRYhzM"
      },
      "source": [
        "Exercise: Use the `rand` function from the `random` module in `numpy` to generate a random number between 0 and 1."
      ]
    },
    {
      "cell_type": "code",
      "metadata": {
        "id": "Clsfu69cWTp-",
        "colab": {
          "base_uri": "https://localhost:8080/"
        },
        "outputId": "84eba2d6-343f-430a-bf5a-7b9634e682ac"
      },
      "source": [
        "# Write your code below\n",
        "import numpy as np\n",
        "np.random.rand()"
      ],
      "execution_count": null,
      "outputs": [
        {
          "output_type": "execute_result",
          "data": {
            "text/plain": [
              "0.09704490263756593"
            ]
          },
          "metadata": {},
          "execution_count": 2
        }
      ]
    },
    {
      "cell_type": "markdown",
      "metadata": {
        "id": "l-D3Pt4AZMMB"
      },
      "source": [
        "Exercise: Use the `rand` function from the `random` module in `numpy` to generate a 2 by 2 matrix where each entry is a random number between 0 and 1"
      ]
    },
    {
      "cell_type": "code",
      "metadata": {
        "id": "ZhAIsz4IYrCr"
      },
      "source": [
        "# Write your code below\n"
      ],
      "execution_count": null,
      "outputs": []
    },
    {
      "cell_type": "code",
      "metadata": {
        "id": "c8zg8EZTWvRQ",
        "outputId": "7b1d6ff4-2326-4a87-eb29-e69f59bd432d",
        "colab": {
          "base_uri": "https://localhost:8080/"
        }
      },
      "source": [
        "x = 1\n",
        "print(x)\n",
        "x = +5\n",
        "print(x)"
      ],
      "execution_count": null,
      "outputs": [
        {
          "output_type": "stream",
          "text": [
            "1\n",
            "5\n"
          ],
          "name": "stdout"
        }
      ]
    },
    {
      "cell_type": "markdown",
      "source": [
        "### NumPy\n",
        "We will be using this package extensively throughout this camp, so we should: be familiar with numpy arrays and how to manipulate them. These arrays typically store numerical data, We can construct a numpy array from a standard python array"
      ],
      "metadata": {
        "id": "t6VIKiTRAS8b"
      }
    },
    {
      "cell_type": "code",
      "metadata": {
        "id": "-ALQLRQVWxPG",
        "colab": {
          "base_uri": "https://localhost:8080/"
        },
        "outputId": "88907772-2c5a-4201-95d5-c0a94808f40a"
      },
      "source": [
        "x = np.array([[1, 2, 3], [4, 5, 6]])\n",
        "print(x)\n",
        "print(type(x))\n",
        "print(x.shape)"
      ],
      "execution_count": null,
      "outputs": [
        {
          "output_type": "stream",
          "name": "stdout",
          "text": [
            "[[1 2 3]\n",
            " [4 5 6]]\n",
            "<class 'numpy.ndarray'>\n",
            "(2, 3)\n"
          ]
        }
      ]
    },
    {
      "cell_type": "markdown",
      "source": [
        "Typically numpy arrays are used to hold numeric data, such as ints or floats. We can check the type of the array using the dtype attrribute"
      ],
      "metadata": {
        "id": "LSFLPFIit7BN"
      }
    },
    {
      "cell_type": "code",
      "source": [
        "print(np.array([[1, 2, 3], [4, 5, 6]]).dtype)\n",
        "print(np.array([[1.2, 0.8, -2.3], [3.4, 52.0, 3.4]]).dtype)\n",
        "print(np.array([[1, 0, 3], [3, 52.0, 3.4]]).dtype)"
      ],
      "metadata": {
        "colab": {
          "base_uri": "https://localhost:8080/"
        },
        "id": "7uXvA8AYuFNs",
        "outputId": "093a937e-3a33-40e0-c034-b7f8907bbd59"
      },
      "execution_count": null,
      "outputs": [
        {
          "output_type": "stream",
          "name": "stdout",
          "text": [
            "int64\n",
            "float64\n",
            "float64\n"
          ]
        }
      ]
    },
    {
      "cell_type": "markdown",
      "source": [
        "We can index these arrays like lists"
      ],
      "metadata": {
        "id": "wfiUSc_0UoV5"
      }
    },
    {
      "cell_type": "code",
      "source": [
        "my_array = np.array([2, 4, 6, 8, 10, 12, 14])\n",
        "print(my_array[0])\n",
        "print(my_array[-1])\n",
        "print(my_array[-2])\n",
        "print(my_array[2:4])\n",
        "print(my_array[2:-2])\n",
        "print(my_array[3:])\n",
        "print(my_array[:-3])\n",
        "print(my_array[2:8:2])\n",
        "print(my_array[::-1])"
      ],
      "metadata": {
        "colab": {
          "base_uri": "https://localhost:8080/"
        },
        "id": "L2PGf_ggUgEq",
        "outputId": "f99e110b-c9f8-467d-8242-40f63b3fb768"
      },
      "execution_count": null,
      "outputs": [
        {
          "output_type": "stream",
          "name": "stdout",
          "text": [
            "2\n",
            "14\n",
            "12\n",
            "[6 8]\n",
            "[ 6  8 10]\n",
            "[ 8 10 12 14]\n",
            "[2 4 6 8]\n",
            "[ 6 10 14]\n",
            "[14 12 10  8  6  4  2]\n"
          ]
        }
      ]
    },
    {
      "cell_type": "markdown",
      "source": [
        "We can also index into arrays with multiple dimensions, using `,` as a separator. Note this can be omitted if we are only indexing the first dimension. Use `:` to select all elements within a dimension."
      ],
      "metadata": {
        "id": "VwZW4ONRuWkg"
      }
    },
    {
      "cell_type": "code",
      "source": [
        "my_2d_array = np.array([[1, 2, 3], [4, 5, 6], [7, 8, 9], [10, 11, 12]])\n",
        "print(my_2d_array[1])\n",
        "print(my_2d_array[1,])\n",
        "print(my_2d_array[:,0])\n",
        "print(my_2d_array[2,:1])"
      ],
      "metadata": {
        "colab": {
          "base_uri": "https://localhost:8080/"
        },
        "id": "2Tu1MAT_tr3_",
        "outputId": "3c22bdca-f963-4033-b168-1e41e17e4181"
      },
      "execution_count": null,
      "outputs": [
        {
          "output_type": "stream",
          "name": "stdout",
          "text": [
            "[4 5 6]\n",
            "[4 5 6]\n",
            "[1 4 7]\n",
            "[7]\n"
          ]
        }
      ]
    },
    {
      "cell_type": "markdown",
      "source": [
        "We will also sometimes need to reshape our arrays. We can do this by calling `.reshape()`"
      ],
      "metadata": {
        "id": "aP2la7c92PhR"
      }
    },
    {
      "cell_type": "code",
      "source": [
        "my_2d_array = np.array([[1, 2, 3], [4, 5, 6], [7, 8, 9], [10, 11, 12]])\n",
        "print(my_2d_array.shape)\n",
        "print(my_2d_array.reshape([3, 4]))\n",
        "print(my_2d_array.reshape([3, 2, 2]))"
      ],
      "metadata": {
        "colab": {
          "base_uri": "https://localhost:8080/"
        },
        "id": "ZKeyzVU3vRZB",
        "outputId": "b9342ee7-8944-4324-92a8-9bbc21531cb0"
      },
      "execution_count": null,
      "outputs": [
        {
          "output_type": "stream",
          "name": "stdout",
          "text": [
            "(4, 3)\n",
            "[[ 1  2  3  4]\n",
            " [ 5  6  7  8]\n",
            " [ 9 10 11 12]]\n",
            "[[[ 1  2]\n",
            "  [ 3  4]]\n",
            "\n",
            " [[ 5  6]\n",
            "  [ 7  8]]\n",
            "\n",
            " [[ 9 10]\n",
            "  [11 12]]]\n"
          ]
        }
      ]
    },
    {
      "cell_type": "markdown",
      "source": [
        "### Using Image Data\n",
        "Here is an example of taking image data and converting it into a numpy array"
      ],
      "metadata": {
        "id": "ymRL_vyj73r6"
      }
    },
    {
      "cell_type": "code",
      "source": [
        "import medmnist\n",
        "dataset = medmnist.OCTMNIST(split='train', download=True)\n",
        "dataset.montage()"
      ],
      "metadata": {
        "colab": {
          "base_uri": "https://localhost:8080/",
          "height": 595
        },
        "id": "gLmw599n8gme",
        "outputId": "0c56269f-4efe-403a-a49d-9dc2ee653366"
      },
      "execution_count": null,
      "outputs": [
        {
          "output_type": "stream",
          "name": "stdout",
          "text": [
            "Using downloaded and verified file: /root/.medmnist/octmnist.npz\n"
          ]
        },
        {
          "output_type": "execute_result",
          "data": {
            "text/plain": [
              "<PIL.Image.Image image mode=L size=560x560 at 0x7F9A9A3308D0>"
            ],
            "image/png": "[encoded data removed]"
          },
          "metadata": {},
          "execution_count": 64
        }
      ]
    },
    {
      "cell_type": "code",
      "source": [
        "image_list = [i[0] for i in dataset]\n",
        "image_list[0]"
      ],
      "metadata": {
        "colab": {
          "base_uri": "https://localhost:8080/",
          "height": 45
        },
        "id": "R5tf7FZL91P_",
        "outputId": "25b9b4f2-a8f1-49cb-fa3e-8aa3bd25657c"
      },
      "execution_count": null,
      "outputs": [
        {
          "output_type": "execute_result",
          "data": {
            "text/plain": [
              "<PIL.Image.Image image mode=L size=28x28 at 0x7F9A9AC389D0>"
            ],
            "image/png": "[encoded data removed]"
          },
          "metadata": {},
          "execution_count": 68
        }
      ]
    },
    {
      "cell_type": "markdown",
      "source": [
        "Internally, this is represented as a 28 by 28 matrix of numbers between 0 and 255. We can view this representation directly by converting it into a numpy array."
      ],
      "metadata": {
        "id": "5GYGB_RsVhcd"
      }
    },
    {
      "cell_type": "code",
      "source": [
        "np.array(image_list[0])"
      ],
      "metadata": {
        "colab": {
          "base_uri": "https://localhost:8080/"
        },
        "id": "QDMTK06RSQKt",
        "outputId": "88f73357-bf83-40e2-c1f0-c91069fd24b8"
      },
      "execution_count": null,
      "outputs": [
        {
          "output_type": "execute_result",
          "data": {
            "text/plain": [
              "array([[ 23,  24,  25,  24,  22,  21,  22,  23,  27,  22,  20,  22,  29,\n",
              "         33,  33,  31,  22,  22,  22,  23,  23,  24,  24,  24,  25,  25,\n",
              "         25,  25],\n",
              "       [ 23,  24,  25,  24,  22,  21,  22,  23,  26,  22,  20,  22,  28,\n",
              "         31,  31,  29,  25,  25,  26,  26,  26,  27,  27,  27,  25,  25,\n",
              "         25,  25],\n",
              "       [ 22,  24,  25,  24,  22,  21,  21,  23,  25,  22,  20,  21,  25,\n",
              "         28,  27,  25,  25,  26,  26,  26,  27,  27,  27,  28,  24,  24,\n",
              "         24,  24],\n",
              "       [ 22,  23,  24,  23,  21,  20,  21,  22,  24,  22,  20,  21,  23,\n",
              "         24,  23,  21,  22,  22,  22,  23,  23,  24,  24,  24,  23,  23,\n",
              "         23,  23],\n",
              "       [ 22,  23,  24,  23,  21,  20,  21,  22,  23,  22,  21,  21,  22,\n",
              "         22,  20,  19,  20,  20,  20,  21,  21,  21,  22,  22,  23,  23,\n",
              "         23,  23],\n",
              "       [ 21,  23,  23,  22,  20,  19,  20,  22,  21,  21,  22,  22,  21,\n",
              "         20,  19,  19,  21,  21,  21,  22,  22,  22,  23,  23,  22,  22,\n",
              "         22,  22],\n",
              "       [ 21,  22,  23,  22,  20,  19,  20,  21,  20,  21,  22,  23,  22,\n",
              "         20,  20,  19,  21,  21,  22,  22,  22,  23,  23,  23,  21,  21,\n",
              "         21,  21],\n",
              "       [ 21,  22,  23,  22,  20,  19,  20,  21,  19,  21,  23,  23,  22,\n",
              "         21,  20,  20,  20,  20,  20,  21,  21,  21,  22,  22,  21,  21,\n",
              "         21,  21],\n",
              "       [ 20,  19,  19,  23,  26,  24,  17,  11,  20,  23,  24,  22,  22,\n",
              "         23,  22,  18,  13,  16,  20,  23,  24,  22,  20,  18,  21,  21,\n",
              "         20,  19],\n",
              "       [ 15,  20,  24,  21,  15,  15,  23,  31,  21,  18,  17,  18,  16,\n",
              "         14,  19,  27,  21,  20,  18,  17,  16,  17,  18,  18,  20,  20,\n",
              "         20,  20],\n",
              "       [ 20,  16,  19,  36,  55,  61,  50,  35,  34,  21,  13,  18,  20,\n",
              "         15,  14,  18,  21,  20,  20,  19,  20,  21,  23,  24,  19,  19,\n",
              "         20,  20],\n",
              "       [ 40,  63,  91, 107, 110, 107, 109, 112,  76,  54,  28,  18,  20,\n",
              "         24,  20,  14,  14,  15,  18,  19,  20,  18,  15,  14,  19,  19,\n",
              "         19,  20],\n",
              "       [ 98, 103, 109, 111, 108, 103, 100,  98, 104,  92,  63,  30,  16,\n",
              "         21,  24,  19,  23,  23,  23,  23,  21,  19,  17,  16,  19,  19,\n",
              "         19,  18],\n",
              "       [102,  86,  77,  92, 118, 125, 106,  82,  80,  91,  88,  61,  32,\n",
              "         18,  14,  12,  17,  16,  14,  14,  15,  18,  21,  23,  19,  19,\n",
              "         18,  18],\n",
              "       [ 67,  89, 116, 129, 129, 130, 140, 151,  77,  74,  75,  73,  57,\n",
              "         33,  25,  30,  23,  24,  25,  25,  23,  20,  16,  13,  18,  18,\n",
              "         18,  18],\n",
              "       [108, 122, 127, 107,  75,  59,  68,  85, 123,  75,  45,  56,  65,\n",
              "         57,  60,  79,  83,  86,  89,  86,  74,  54,  34,  21,  17,  17,\n",
              "         18,  19],\n",
              "       [ 95,  84,  64,  54,  49,  38,  38,  56,  87,  87,  60,  47,  61,\n",
              "         53,  52,  84,  79,  82,  87,  91,  92,  88,  81,  76,  48,  38,\n",
              "         26,  20],\n",
              "       [ 70,  61,  46,  39,  38,  27,  24,  38,  67,  91,  79,  60,  65,\n",
              "         60,  52,  67,  72,  70,  69,  69,  71,  75,  78,  79,  87,  84,\n",
              "         81,  78],\n",
              "       [ 53,  46,  34,  31,  35,  26,  19,  28,  25,  72,  81,  61,  62,\n",
              "         63,  53,  51,  51,  58,  67,  75,  78,  74,  68,  63,  73,  76,\n",
              "         80,  81],\n",
              "       [ 48,  42,  30,  29,  36,  29,  21,  26,  14,  58,  78,  70,  75,\n",
              "         82,  77,  73,  56,  68,  85,  96,  96,  87,  74,  65,  53,  56,\n",
              "         59,  61],\n",
              "       [ 42,  37,  24,  20,  27,  24,  18,  22,  20,  40,  54,  61,  70,\n",
              "         75,  77,  81,  81,  83,  84,  84,  84,  85,  89,  92,  66,  63,\n",
              "         60,  61],\n",
              "       [ 34,  32,  20,  14,  20,  19,  15,  20,  25,  22,  27,  39,  44,\n",
              "         44,  49,  57,  66,  64,  60,  56,  56,  63,  76,  85,  78,  71,\n",
              "         65,  65],\n",
              "       [ 26,  29,  21,  14,  19,  18,  15,  21,  30,  23,  28,  38,  37,\n",
              "         36,  41,  44,  34,  37,  39,  38,  37,  40,  47,  53,  69,  66,\n",
              "         63,  64],\n",
              "       [ 17,  24,  20,  14,  18,  17,  14,  20,  14,  13,  24,  31,  26,\n",
              "         28,  33,  30,  32,  34,  34,  31,  27,  29,  36,  43,  39,  42,\n",
              "         45,  46],\n",
              "       [ 14,  14,  14,  14,  14,  14,  14,  14,  15,  16,  17,  19,  20,\n",
              "         22,  23,  24,  27,  27,  27,  26,  25,  27,  31,  34,  35,  37,\n",
              "         39,  40],\n",
              "       [ 13,  13,  13,  13,  13,  13,  13,  13,  13,  14,  15,  16,  17,\n",
              "         18,  19,  19,  20,  21,  21,  20,  19,  21,  24,  27,  27,  29,\n",
              "         31,  32],\n",
              "       [ 12,  12,  12,  12,  12,  12,  12,  12,  11,  11,  11,  12,  12,\n",
              "         13,  13,  13,  12,  13,  13,  13,  12,  13,  16,  19,  17,  19,\n",
              "         21,  21],\n",
              "       [ 10,  10,  10,  10,  10,  10,  10,  10,  10,  10,  10,  10,  10,\n",
              "         10,  10,  10,   8,   9,  10,   9,   8,   8,  11,  13,  10,  12,\n",
              "         14,  14]], dtype=uint8)"
            ]
          },
          "metadata": {},
          "execution_count": 69
        }
      ]
    },
    {
      "cell_type": "code",
      "source": [
        ""
      ],
      "metadata": {
        "id": "Psk-0tfhVf71"
      },
      "execution_count": null,
      "outputs": []
    }
  ]
}
