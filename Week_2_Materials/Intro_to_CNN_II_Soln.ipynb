{
  "nbformat": 4,
  "nbformat_minor": 0,
  "metadata": {
    "accelerator": "GPU",
    "colab": {
      "name": "Intro_to_CNN_Soln.ipynb",
      "provenance": [],
      "collapsed_sections": [],
      "include_colab_link": true
    },
    "kernelspec": {
      "display_name": "Python 3",
      "language": "python",
      "name": "python3"
    },
    "language_info": {
      "codemirror_mode": {
        "name": "ipython",
        "version": 3
      },
      "file_extension": ".py",
      "mimetype": "text/x-python",
      "name": "python",
      "nbconvert_exporter": "python",
      "pygments_lexer": "ipython3",
      "version": "3.6.8"
    },
    "widgets": {
      "application/vnd.jupyter.widget-state+json": {
        "09c1861df4f24ad6ab4cd1d0b6ecf305": {
          "model_module": "@jupyter-widgets/controls",
          "model_name": "HBoxModel",
          "model_module_version": "1.5.0",
          "state": {
            "_dom_classes": [],
            "_model_module": "@jupyter-widgets/controls",
            "_model_module_version": "1.5.0",
            "_model_name": "HBoxModel",
            "_view_count": null,
            "_view_module": "@jupyter-widgets/controls",
            "_view_module_version": "1.5.0",
            "_view_name": "HBoxView",
            "box_style": "",
            "children": [
              "IPY_MODEL_f90cf5e582cf4a4182e34db7a933d172",
              "IPY_MODEL_0d525caa0e0741119dbcba66e669aea9",
              "IPY_MODEL_5349a425bbcd404ab44020eb1ed6a0ab"
            ],
            "layout": "IPY_MODEL_750d8a53d53747e2ad6cfb89e634e274"
          }
        },
        "f90cf5e582cf4a4182e34db7a933d172": {
          "model_module": "@jupyter-widgets/controls",
          "model_name": "HTMLModel",
          "model_module_version": "1.5.0",
          "state": {
            "_dom_classes": [],
            "_model_module": "@jupyter-widgets/controls",
            "_model_module_version": "1.5.0",
            "_model_name": "HTMLModel",
            "_view_count": null,
            "_view_module": "@jupyter-widgets/controls",
            "_view_module_version": "1.5.0",
            "_view_name": "HTMLView",
            "description": "",
            "description_tooltip": null,
            "layout": "IPY_MODEL_0d91e6131c374561937d2da12dea22ae",
            "placeholder": "​",
            "style": "IPY_MODEL_3e9d84ef7bda4fb2b07d956018f6ffa0",
            "value": ""
          }
        },
        "0d525caa0e0741119dbcba66e669aea9": {
          "model_module": "@jupyter-widgets/controls",
          "model_name": "FloatProgressModel",
          "model_module_version": "1.5.0",
          "state": {
            "_dom_classes": [],
            "_model_module": "@jupyter-widgets/controls",
            "_model_module_version": "1.5.0",
            "_model_name": "FloatProgressModel",
            "_view_count": null,
            "_view_module": "@jupyter-widgets/controls",
            "_view_module_version": "1.5.0",
            "_view_name": "ProgressView",
            "bar_style": "success",
            "description": "",
            "description_tooltip": null,
            "layout": "IPY_MODEL_72291212c28f4e5a8d6e074a64999795",
            "max": 205615438,
            "min": 0,
            "orientation": "horizontal",
            "style": "IPY_MODEL_994729a9255f4b52ab693f46fe4bdd83",
            "value": 205615438
          }
        },
        "5349a425bbcd404ab44020eb1ed6a0ab": {
          "model_module": "@jupyter-widgets/controls",
          "model_name": "HTMLModel",
          "model_module_version": "1.5.0",
          "state": {
            "_dom_classes": [],
            "_model_module": "@jupyter-widgets/controls",
            "_model_module_version": "1.5.0",
            "_model_name": "HTMLModel",
            "_view_count": null,
            "_view_module": "@jupyter-widgets/controls",
            "_view_module_version": "1.5.0",
            "_view_name": "HTMLView",
            "description": "",
            "description_tooltip": null,
            "layout": "IPY_MODEL_b8fb24de08494fc49bf35f8a76d40a34",
            "placeholder": "​",
            "style": "IPY_MODEL_d63c13e252584650875ba401edc2556c",
            "value": " 205616128/? [00:13&lt;00:00, 12633131.01it/s]"
          }
        },
        "750d8a53d53747e2ad6cfb89e634e274": {
          "model_module": "@jupyter-widgets/base",
          "model_name": "LayoutModel",
          "model_module_version": "1.2.0",
          "state": {
            "_model_module": "@jupyter-widgets/base",
            "_model_module_version": "1.2.0",
            "_model_name": "LayoutModel",
            "_view_count": null,
            "_view_module": "@jupyter-widgets/base",
            "_view_module_version": "1.2.0",
            "_view_name": "LayoutView",
            "align_content": null,
            "align_items": null,
            "align_self": null,
            "border": null,
            "bottom": null,
            "display": null,
            "flex": null,
            "flex_flow": null,
            "grid_area": null,
            "grid_auto_columns": null,
            "grid_auto_flow": null,
            "grid_auto_rows": null,
            "grid_column": null,
            "grid_gap": null,
            "grid_row": null,
            "grid_template_areas": null,
            "grid_template_columns": null,
            "grid_template_rows": null,
            "height": null,
            "justify_content": null,
            "justify_items": null,
            "left": null,
            "margin": null,
            "max_height": null,
            "max_width": null,
            "min_height": null,
            "min_width": null,
            "object_fit": null,
            "object_position": null,
            "order": null,
            "overflow": null,
            "overflow_x": null,
            "overflow_y": null,
            "padding": null,
            "right": null,
            "top": null,
            "visibility": null,
            "width": null
          }
        },
        "0d91e6131c374561937d2da12dea22ae": {
          "model_module": "@jupyter-widgets/base",
          "model_name": "LayoutModel",
          "model_module_version": "1.2.0",
          "state": {
            "_model_module": "@jupyter-widgets/base",
            "_model_module_version": "1.2.0",
            "_model_name": "LayoutModel",
            "_view_count": null,
            "_view_module": "@jupyter-widgets/base",
            "_view_module_version": "1.2.0",
            "_view_name": "LayoutView",
            "align_content": null,
            "align_items": null,
            "align_self": null,
            "border": null,
            "bottom": null,
            "display": null,
            "flex": null,
            "flex_flow": null,
            "grid_area": null,
            "grid_auto_columns": null,
            "grid_auto_flow": null,
            "grid_auto_rows": null,
            "grid_column": null,
            "grid_gap": null,
            "grid_row": null,
            "grid_template_areas": null,
            "grid_template_columns": null,
            "grid_template_rows": null,
            "height": null,
            "justify_content": null,
            "justify_items": null,
            "left": null,
            "margin": null,
            "max_height": null,
            "max_width": null,
            "min_height": null,
            "min_width": null,
            "object_fit": null,
            "object_position": null,
            "order": null,
            "overflow": null,
            "overflow_x": null,
            "overflow_y": null,
            "padding": null,
            "right": null,
            "top": null,
            "visibility": null,
            "width": null
          }
        },
        "3e9d84ef7bda4fb2b07d956018f6ffa0": {
          "model_module": "@jupyter-widgets/controls",
          "model_name": "DescriptionStyleModel",
          "model_module_version": "1.5.0",
          "state": {
            "_model_module": "@jupyter-widgets/controls",
            "_model_module_version": "1.5.0",
            "_model_name": "DescriptionStyleModel",
            "_view_count": null,
            "_view_module": "@jupyter-widgets/base",
            "_view_module_version": "1.2.0",
            "_view_name": "StyleView",
            "description_width": ""
          }
        },
        "72291212c28f4e5a8d6e074a64999795": {
          "model_module": "@jupyter-widgets/base",
          "model_name": "LayoutModel",
          "model_module_version": "1.2.0",
          "state": {
            "_model_module": "@jupyter-widgets/base",
            "_model_module_version": "1.2.0",
            "_model_name": "LayoutModel",
            "_view_count": null,
            "_view_module": "@jupyter-widgets/base",
            "_view_module_version": "1.2.0",
            "_view_name": "LayoutView",
            "align_content": null,
            "align_items": null,
            "align_self": null,
            "border": null,
            "bottom": null,
            "display": null,
            "flex": null,
            "flex_flow": null,
            "grid_area": null,
            "grid_auto_columns": null,
            "grid_auto_flow": null,
            "grid_auto_rows": null,
            "grid_column": null,
            "grid_gap": null,
            "grid_row": null,
            "grid_template_areas": null,
            "grid_template_columns": null,
            "grid_template_rows": null,
            "height": null,
            "justify_content": null,
            "justify_items": null,
            "left": null,
            "margin": null,
            "max_height": null,
            "max_width": null,
            "min_height": null,
            "min_width": null,
            "object_fit": null,
            "object_position": null,
            "order": null,
            "overflow": null,
            "overflow_x": null,
            "overflow_y": null,
            "padding": null,
            "right": null,
            "top": null,
            "visibility": null,
            "width": null
          }
        },
        "994729a9255f4b52ab693f46fe4bdd83": {
          "model_module": "@jupyter-widgets/controls",
          "model_name": "ProgressStyleModel",
          "model_module_version": "1.5.0",
          "state": {
            "_model_module": "@jupyter-widgets/controls",
            "_model_module_version": "1.5.0",
            "_model_name": "ProgressStyleModel",
            "_view_count": null,
            "_view_module": "@jupyter-widgets/base",
            "_view_module_version": "1.2.0",
            "_view_name": "StyleView",
            "bar_color": null,
            "description_width": ""
          }
        },
        "b8fb24de08494fc49bf35f8a76d40a34": {
          "model_module": "@jupyter-widgets/base",
          "model_name": "LayoutModel",
          "model_module_version": "1.2.0",
          "state": {
            "_model_module": "@jupyter-widgets/base",
            "_model_module_version": "1.2.0",
            "_model_name": "LayoutModel",
            "_view_count": null,
            "_view_module": "@jupyter-widgets/base",
            "_view_module_version": "1.2.0",
            "_view_name": "LayoutView",
            "align_content": null,
            "align_items": null,
            "align_self": null,
            "border": null,
            "bottom": null,
            "display": null,
            "flex": null,
            "flex_flow": null,
            "grid_area": null,
            "grid_auto_columns": null,
            "grid_auto_flow": null,
            "grid_auto_rows": null,
            "grid_column": null,
            "grid_gap": null,
            "grid_row": null,
            "grid_template_areas": null,
            "grid_template_columns": null,
            "grid_template_rows": null,
            "height": null,
            "justify_content": null,
            "justify_items": null,
            "left": null,
            "margin": null,
            "max_height": null,
            "max_width": null,
            "min_height": null,
            "min_width": null,
            "object_fit": null,
            "object_position": null,
            "order": null,
            "overflow": null,
            "overflow_x": null,
            "overflow_y": null,
            "padding": null,
            "right": null,
            "top": null,
            "visibility": null,
            "width": null
          }
        },
        "d63c13e252584650875ba401edc2556c": {
          "model_module": "@jupyter-widgets/controls",
          "model_name": "DescriptionStyleModel",
          "model_module_version": "1.5.0",
          "state": {
            "_model_module": "@jupyter-widgets/controls",
            "_model_module_version": "1.5.0",
            "_model_name": "DescriptionStyleModel",
            "_view_count": null,
            "_view_module": "@jupyter-widgets/base",
            "_view_module_version": "1.2.0",
            "_view_name": "StyleView",
            "description_width": ""
          }
        }
      }
    }
  },
  "cells": [
    {
      "cell_type": "markdown",
      "metadata": {
        "id": "view-in-github",
        "colab_type": "text"
      },
      "source": [
        "<a href=\"https://colab.research.google.com/github/jlgrons/CELEHS-DSinA/blob/main/Intro_to_CNN_II_Soln.ipynb\" target=\"_parent\"><img src=\"https://colab.research.google.com/assets/colab-badge.svg\" alt=\"Open In Colab\"/></a>"
      ]
    },
    {
      "cell_type": "code",
      "metadata": {
        "id": "o2nUCqQ-hfZR",
        "colab": {
          "base_uri": "https://localhost:8080/",
          "height": 35
        },
        "outputId": "20a38d45-a820-4120-a85b-bc23a96f7cb3"
      },
      "source": [
        "import tensorflow as tf\n",
        "import keras\n",
        "keras.__version__"
      ],
      "execution_count": null,
      "outputs": [
        {
          "output_type": "execute_result",
          "data": {
            "text/plain": [
              "'2.8.0'"
            ],
            "application/vnd.google.colaboratory.intrinsic+json": {
              "type": "string"
            }
          },
          "metadata": {},
          "execution_count": 1
        }
      ]
    },
    {
      "cell_type": "markdown",
      "metadata": {
        "id": "Wb7PAQLnhfZW"
      },
      "source": [
        "# 5.1 - Introduction to Convolutional Neural Networks (CNN)\n",
        "\n",
        "This notebook contains part of a python tutorial found in chapter 5, section 1 of [Deep Learning with Python](https://www.manning.com/books/deep-learning-with-python?a_aid=keras&a_bid=76564dff). In the book you will find the commented code with more detailed explanations of this and other examples, databases and CNN architectures.\n"
      ]
    },
    {
      "cell_type": "markdown",
      "metadata": {
        "id": "GJjhMgcPaH6o"
      },
      "source": [
        "----\n",
        "##Background\n",
        "We will first go over a simple CNN example. Again we will focus on classifying images of hand written digits from the MNIST dataset.\n",
        "\n",
        "The 6 lines of code in the cell below will show you what a basic CNN looks like. It is a stack of 2-dimensional convolutional `Conv2D` and pooling `MaxPooling2D` layers. We will see what each does in practice in the cells below. As we have seen in the course slides, CNNs will have tensors of dimension `(image_height, image_width, image_channels)` as inputs. In our case, we will configure the network to take tensors of dimension `(28, 28, 1)` (note the MNIST image format). \n",
        "\n",
        "We will do this in a similar manner as what we did for the simple neural networks, adding `input_shape=(28, 28, 1)` to the first layer."
      ]
    },
    {
      "cell_type": "markdown",
      "metadata": {
        "id": "EBqaSBQqwchE"
      },
      "source": [
        "---\n",
        "First we will import the necessary modules from keras and load the MNIST dataset."
      ]
    },
    {
      "cell_type": "code",
      "metadata": {
        "id": "EYudrJybhfZW",
        "colab": {
          "base_uri": "https://localhost:8080/"
        },
        "outputId": "55b9f7a8-60b5-4e71-d447-1b0c047fa574"
      },
      "source": [
        "! pip install medmnist\n",
        "! pip install keras\n",
        "\n",
        "from keras import layers\n",
        "from keras import models\n",
        "from keras.datasets import mnist\n",
        "from tensorflow.keras.utils import to_categorical\n",
        "from keras.models import Sequential\n",
        "from keras.layers import Conv2D\n",
        "from keras.layers import MaxPooling2D\n",
        "from keras.layers import Dense\n",
        "from keras.layers import Flatten\n",
        "from tensorflow.keras.optimizers import SGD\n",
        "import torchvision.transforms as transforms\n",
        "import numpy as np\n",
        "\n",
        "import medmnist\n",
        "from medmnist import INFO, Evaluator"
      ],
      "execution_count": null,
      "outputs": [
        {
          "output_type": "stream",
          "name": "stdout",
          "text": [
            "Looking in indexes: https://pypi.org/simple, https://us-python.pkg.dev/colab-wheels/public/simple/\n",
            "Collecting medmnist\n",
            "  Downloading medmnist-2.1.0-py3-none-any.whl (21 kB)\n",
            "Requirement already satisfied: scikit-image in /usr/local/lib/python3.7/dist-packages (from medmnist) (0.18.3)\n",
            "Requirement already satisfied: tqdm in /usr/local/lib/python3.7/dist-packages (from medmnist) (4.64.0)\n",
            "Requirement already satisfied: pandas in /usr/local/lib/python3.7/dist-packages (from medmnist) (1.3.5)\n",
            "Requirement already satisfied: torch in /usr/local/lib/python3.7/dist-packages (from medmnist) (1.11.0+cu113)\n",
            "Requirement already satisfied: Pillow in /usr/local/lib/python3.7/dist-packages (from medmnist) (7.1.2)\n",
            "Collecting fire\n",
            "  Downloading fire-0.4.0.tar.gz (87 kB)\n",
            "\u001b[K     |████████████████████████████████| 87 kB 7.1 MB/s \n",
            "\u001b[?25hRequirement already satisfied: torchvision in /usr/local/lib/python3.7/dist-packages (from medmnist) (0.12.0+cu113)\n",
            "Requirement already satisfied: numpy in /usr/local/lib/python3.7/dist-packages (from medmnist) (1.21.6)\n",
            "Requirement already satisfied: scikit-learn in /usr/local/lib/python3.7/dist-packages (from medmnist) (1.0.2)\n",
            "Requirement already satisfied: six in /usr/local/lib/python3.7/dist-packages (from fire->medmnist) (1.15.0)\n",
            "Requirement already satisfied: termcolor in /usr/local/lib/python3.7/dist-packages (from fire->medmnist) (1.1.0)\n",
            "Requirement already satisfied: python-dateutil>=2.7.3 in /usr/local/lib/python3.7/dist-packages (from pandas->medmnist) (2.8.2)\n",
            "Requirement already satisfied: pytz>=2017.3 in /usr/local/lib/python3.7/dist-packages (from pandas->medmnist) (2022.1)\n",
            "Requirement already satisfied: matplotlib!=3.0.0,>=2.0.0 in /usr/local/lib/python3.7/dist-packages (from scikit-image->medmnist) (3.2.2)\n",
            "Requirement already satisfied: scipy>=1.0.1 in /usr/local/lib/python3.7/dist-packages (from scikit-image->medmnist) (1.4.1)\n",
            "Requirement already satisfied: imageio>=2.3.0 in /usr/local/lib/python3.7/dist-packages (from scikit-image->medmnist) (2.4.1)\n",
            "Requirement already satisfied: tifffile>=2019.7.26 in /usr/local/lib/python3.7/dist-packages (from scikit-image->medmnist) (2021.11.2)\n",
            "Requirement already satisfied: PyWavelets>=1.1.1 in /usr/local/lib/python3.7/dist-packages (from scikit-image->medmnist) (1.3.0)\n",
            "Requirement already satisfied: networkx>=2.0 in /usr/local/lib/python3.7/dist-packages (from scikit-image->medmnist) (2.6.3)\n",
            "Requirement already satisfied: kiwisolver>=1.0.1 in /usr/local/lib/python3.7/dist-packages (from matplotlib!=3.0.0,>=2.0.0->scikit-image->medmnist) (1.4.3)\n",
            "Requirement already satisfied: pyparsing!=2.0.4,!=2.1.2,!=2.1.6,>=2.0.1 in /usr/local/lib/python3.7/dist-packages (from matplotlib!=3.0.0,>=2.0.0->scikit-image->medmnist) (3.0.9)\n",
            "Requirement already satisfied: cycler>=0.10 in /usr/local/lib/python3.7/dist-packages (from matplotlib!=3.0.0,>=2.0.0->scikit-image->medmnist) (0.11.0)\n",
            "Requirement already satisfied: typing-extensions in /usr/local/lib/python3.7/dist-packages (from kiwisolver>=1.0.1->matplotlib!=3.0.0,>=2.0.0->scikit-image->medmnist) (4.1.1)\n",
            "Requirement already satisfied: joblib>=0.11 in /usr/local/lib/python3.7/dist-packages (from scikit-learn->medmnist) (1.1.0)\n",
            "Requirement already satisfied: threadpoolctl>=2.0.0 in /usr/local/lib/python3.7/dist-packages (from scikit-learn->medmnist) (3.1.0)\n",
            "Requirement already satisfied: requests in /usr/local/lib/python3.7/dist-packages (from torchvision->medmnist) (2.23.0)\n",
            "Requirement already satisfied: urllib3!=1.25.0,!=1.25.1,<1.26,>=1.21.1 in /usr/local/lib/python3.7/dist-packages (from requests->torchvision->medmnist) (1.24.3)\n",
            "Requirement already satisfied: idna<3,>=2.5 in /usr/local/lib/python3.7/dist-packages (from requests->torchvision->medmnist) (2.10)\n",
            "Requirement already satisfied: certifi>=2017.4.17 in /usr/local/lib/python3.7/dist-packages (from requests->torchvision->medmnist) (2022.6.15)\n",
            "Requirement already satisfied: chardet<4,>=3.0.2 in /usr/local/lib/python3.7/dist-packages (from requests->torchvision->medmnist) (3.0.4)\n",
            "Building wheels for collected packages: fire\n",
            "  Building wheel for fire (setup.py) ... \u001b[?25l\u001b[?25hdone\n",
            "  Created wheel for fire: filename=fire-0.4.0-py2.py3-none-any.whl size=115942 sha256=ababe9912374ae638f14d458846013fa5e5efdd5f90bf7ba1516a44b92be4719\n",
            "  Stored in directory: /root/.cache/pip/wheels/8a/67/fb/2e8a12fa16661b9d5af1f654bd199366799740a85c64981226\n",
            "Successfully built fire\n",
            "Installing collected packages: fire, medmnist\n",
            "Successfully installed fire-0.4.0 medmnist-2.1.0\n",
            "Looking in indexes: https://pypi.org/simple, https://us-python.pkg.dev/colab-wheels/public/simple/\n",
            "Requirement already satisfied: keras in /usr/local/lib/python3.7/dist-packages (2.8.0)\n"
          ]
        }
      ]
    },
    {
      "cell_type": "code",
      "metadata": {
        "id": "61aK5BJn6a2V",
        "colab": {
          "base_uri": "https://localhost:8080/",
          "height": 295,
          "referenced_widgets": [
            "09c1861df4f24ad6ab4cd1d0b6ecf305",
            "f90cf5e582cf4a4182e34db7a933d172",
            "0d525caa0e0741119dbcba66e669aea9",
            "5349a425bbcd404ab44020eb1ed6a0ab",
            "750d8a53d53747e2ad6cfb89e634e274",
            "0d91e6131c374561937d2da12dea22ae",
            "3e9d84ef7bda4fb2b07d956018f6ffa0",
            "72291212c28f4e5a8d6e074a64999795",
            "994729a9255f4b52ab693f46fe4bdd83",
            "b8fb24de08494fc49bf35f8a76d40a34",
            "d63c13e252584650875ba401edc2556c"
          ]
        },
        "outputId": "1fb8baee-9f66-490e-9464-9e38e2cfebcb"
      },
      "source": [
        "def get_loader(dataset, batch_size):\n",
        "    total_size = len(dataset)\n",
        "    print('Size', total_size)\n",
        "    index_generator = shuffle_iterator(range(total_size))\n",
        "    while True:\n",
        "        data = []\n",
        "        for _ in range(batch_size):\n",
        "            idx = next(index_generator)\n",
        "            data.append(dataset[idx])\n",
        "        yield dataset._collate_fn(data)\n",
        "\n",
        "\n",
        "def shuffle_iterator(iterator):\n",
        "    # iterator should have limited size\n",
        "    index = list(iterator)\n",
        "    total_size = len(index)\n",
        "    i = 0\n",
        "    random.shuffle(index)\n",
        "    while True:\n",
        "        yield index[i]\n",
        "        i += 1\n",
        "        if i >= total_size:\n",
        "            i = 0\n",
        "            random.shuffle(index)\n",
        "\n",
        "def rgb2gray(rgb):\n",
        "    R, G, B = rgb[0], rgb[1], rgb[2]\n",
        "    imgGray = 0.2989 * R + 0.5870 * G + 0.1140 * B\n",
        "    return imgGray\n",
        "\n",
        "data_flag = 'pathmnist'\n",
        "download = True\n",
        "\n",
        "NUM_EPOCHS = 3\n",
        "BATCH_SIZE = 64\n",
        "\n",
        "info = INFO[data_flag]\n",
        "task = info['task']\n",
        "n_channels = info['n_channels']\n",
        "n_classes = len(info['label'])\n",
        "\n",
        "DataClass = getattr(medmnist, info['python_class'])\n",
        "\n",
        "# preprocessing\n",
        "data_transform = transforms.Compose([\n",
        "    transforms.ToTensor(),\n",
        "    transforms.Normalize(mean=[.5], std=[.5])\n",
        "])\n",
        "\n",
        "# load the data\n",
        "train_dataset = DataClass(split='train', transform=data_transform, download=download)\n",
        "test_dataset = DataClass(split='test', transform=data_transform, download=download)\n",
        "\n",
        "pil_dataset = DataClass(split='train', download=download)\n",
        "\n",
        "# encapsulate data into dataloader form\n",
        "train_loader = get_loader(dataset=train_dataset, batch_size=BATCH_SIZE)\n",
        "test_loader = get_loader(dataset=test_dataset, batch_size=BATCH_SIZE)\n",
        "\n",
        "print(train_dataset)\n",
        "\n",
        "training_images = np.array([np.array(rgb2gray(elem[0])) for elem in train_dataset])\n",
        "training_labels = np.array([np.array(elem[1]) for elem in train_dataset])\n",
        "testing_images = np.array([np.array(rgb2gray(elem[0])) for elem in test_dataset])\n",
        "testing_labels = np.array([np.array(elem[1]) for elem in test_dataset])"
      ],
      "execution_count": null,
      "outputs": [
        {
          "output_type": "stream",
          "name": "stdout",
          "text": [
            "Downloading https://zenodo.org/record/6496656/files/pathmnist.npz?download=1 to /root/.medmnist/pathmnist.npz\n"
          ]
        },
        {
          "output_type": "display_data",
          "data": {
            "text/plain": [
              "  0%|          | 0/205615438 [00:00<?, ?it/s]"
            ],
            "application/vnd.jupyter.widget-view+json": {
              "version_major": 2,
              "version_minor": 0,
              "model_id": "09c1861df4f24ad6ab4cd1d0b6ecf305"
            }
          },
          "metadata": {}
        },
        {
          "output_type": "stream",
          "name": "stdout",
          "text": [
            "Using downloaded and verified file: /root/.medmnist/pathmnist.npz\n",
            "Using downloaded and verified file: /root/.medmnist/pathmnist.npz\n",
            "Dataset PathMNIST (pathmnist)\n",
            "    Number of datapoints: 89996\n",
            "    Root location: /root/.medmnist\n",
            "    Split: train\n",
            "    Task: multi-class\n",
            "    Number of channels: 3\n",
            "    Meaning of labels: {'0': 'adipose', '1': 'background', '2': 'debris', '3': 'lymphocytes', '4': 'mucus', '5': 'smooth muscle', '6': 'normal colon mucosa', '7': 'cancer-associated stroma', '8': 'colorectal adenocarcinoma epithelium'}\n",
            "    Number of samples: {'train': 89996, 'val': 10004, 'test': 7180}\n",
            "    Description: The PathMNIST is based on a prior study for predicting survival from colorectal cancer histology slides, providing a dataset (NCT-CRC-HE-100K) of 100,000 non-overlapping image patches from hematoxylin & eosin stained histological images, and a test dataset (CRC-VAL-HE-7K) of 7,180 image patches from a different clinical center. The dataset is comprised of 9 types of tissues, resulting in a multi-class classification task. We resize the source images of 3×224×224 into 3×28×28, and split NCT-CRC-HE-100K into training and validation set with a ratio of 9:1. The CRC-VAL-HE-7K is treated as the test set.\n",
            "    License: CC BY 4.0\n"
          ]
        }
      ]
    },
    {
      "cell_type": "markdown",
      "metadata": {
        "id": "TXaNVH_UaT7N"
      },
      "source": [
        "---\n",
        "##Building your CNN"
      ]
    },
    {
      "cell_type": "markdown",
      "metadata": {
        "id": "GEBEgWeHjYWG"
      },
      "source": [
        "###Construction\n",
        "Next, build a CNN that takes as input MNIST images, and has:\n",
        "\n",
        "1. 2D convolutional layer with 32 units, size 3x3, and [`relu`](https://keras.io/api/layers/activations/) activation function (HINT: function [`Conv2D`](https://www.tensorflow.org/api_docs/python/tf/keras/layers/Conv2D); note input shape above)\n",
        "\n",
        "2. 2D max pooling layer with units size 2x2 (HINT: function [`MaxPooling2D`](https://www.tensorflow.org/api_docs/python/tf/keras/layers/MaxPool2D))\n",
        "\n",
        "3. 2D convolutional layer with 64 units, size 3x3, and `relu` activation function\n",
        "\n",
        "4. 2D max pooling layer with units size 2x2\n",
        "\n",
        "5. 2D convolutional layer with 64 units, size 3x3, and `relu` activation function\n"
      ]
    },
    {
      "cell_type": "code",
      "metadata": {
        "id": "g8gM_38aIDEW",
        "colab": {
          "base_uri": "https://localhost:8080/"
        },
        "outputId": "e8f1c4cc-186b-4cc2-dc27-fd0d1eed227e"
      },
      "source": [
        "########## STUDENT WORK ##########\n",
        "# Build the model\n",
        " \n",
        "CNN = models.Sequential()\n",
        "# Fill in the parentheses below with the relevant code\n",
        "CNN.add(Conv2D(32, (3, 3), activation='relu', input_shape=(28, 28, 1)))\n",
        "CNN.add(MaxPooling2D((2, 2)))\n",
        "CNN.add(Conv2D(64, (3, 3), activation='relu'))\n",
        "CNN.add(MaxPooling2D((2, 2)))\n",
        "CNN.add(Conv2D(64, (3, 3), activation='relu'))\n",
        "CNN.summary()"
      ],
      "execution_count": null,
      "outputs": [
        {
          "output_type": "stream",
          "name": "stdout",
          "text": [
            "Model: \"sequential\"\n",
            "_________________________________________________________________\n",
            " Layer (type)                Output Shape              Param #   \n",
            "=================================================================\n",
            " conv2d (Conv2D)             (None, 26, 26, 32)        320       \n",
            "                                                                 \n",
            " max_pooling2d (MaxPooling2D  (None, 13, 13, 32)       0         \n",
            " )                                                               \n",
            "                                                                 \n",
            " conv2d_1 (Conv2D)           (None, 11, 11, 64)        18496     \n",
            "                                                                 \n",
            " max_pooling2d_1 (MaxPooling  (None, 5, 5, 64)         0         \n",
            " 2D)                                                             \n",
            "                                                                 \n",
            " conv2d_2 (Conv2D)           (None, 3, 3, 64)          36928     \n",
            "                                                                 \n",
            "=================================================================\n",
            "Total params: 55,744\n",
            "Trainable params: 55,744\n",
            "Non-trainable params: 0\n",
            "_________________________________________________________________\n"
          ]
        }
      ]
    },
    {
      "cell_type": "code",
      "metadata": {
        "id": "7tcjtFYUmt_y"
      },
      "source": [
        "###### DO NOT RUN THIS CELL ############\n",
        "# expected result\n",
        "\n",
        "#Model: \"sequential\"\n",
        "#_________________________________________________________________\n",
        "#Layer (type)                 Output Shape              Param #   \n",
        "#=================================================================\n",
        "#conv2d (Conv2D)              (None, 26, 26, 32)        320       \n",
        "#_________________________________________________________________\n",
        "#max_pooling2d (MaxPooling2D) (None, 13, 13, 32)        0         \n",
        "#_________________________________________________________________\n",
        "#conv2d_1 (Conv2D)            (None, 11, 11, 64)        18496     \n",
        "#_________________________________________________________________\n",
        "#max_pooling2d_1 (MaxPooling2 (None, 5, 5, 64)          0         \n",
        "#_________________________________________________________________\n",
        "#conv2d_2 (Conv2D)            (None, 3, 3, 64)          36928     \n",
        "#=================================================================\n",
        "#Total params: 55,744\n",
        "#Trainable params: 55,744\n",
        "#Non-trainable params: 0\n",
        "#_________________________________________________________________"
      ],
      "execution_count": null,
      "outputs": []
    },
    {
      "cell_type": "markdown",
      "metadata": {
        "id": "HOTJkSrhhfZd"
      },
      "source": [
        "In the table above, you can see that the result of each convolutional layer (`Conv2D`) and each max pooling layer (`MaxPooling2D`) is a 3D tensor (a three dimensional matrix) of dimensions: `(hight, width, channels)`. The height and width dimensions tend to decrease as we get deeper in the neural network. The number of channels is determined by the first argument in the convolutional layer function `Conv2D` (i.e. 32 or 64).\n",
        "\n",
        "---\n",
        "The next step will be to feed the last generated tensor (of size `(3, 3, 64)`) into the fully connected classifying neural network: a stack of dense layers (`Dense`). However, the vectors used for classifying are one-dimensional, as opposed to our 3D tensor; we thus need to \"flatten\" ([`Flatten`](https://www.tensorflow.org/api_docs/python/tf/keras/layers/Flatten)) the 3D tensors (i.e. transform them into vectors) and then add a few dense layers on top.\n",
        "\n",
        "We will be doing a 10 category classification task (digits from 0 to 9). What size should the last layer be? What activation function should it have? (Hint: think back to the python notebook on simple neural networks)"
      ]
    },
    {
      "cell_type": "markdown",
      "metadata": {
        "id": "XLfnjL1ZjYWT"
      },
      "source": [
        "Extend your CNN by adding:\n",
        "\n",
        "1. A layer to flatten the 3D tensor into a vector \n",
        "\n",
        "2. A dense layer with 64 units (neurons) and `relu` activation function \n",
        "\n",
        "3. A dense layer with what number of units? Which activation function do we need for this one?\n"
      ]
    },
    {
      "cell_type": "code",
      "metadata": {
        "id": "vgNVNjddpQeE"
      },
      "source": [
        "########## STUDENT WORK ##########\n",
        "\n",
        "CNN.add(Flatten())\n",
        "# Fill in the parentheses below with the appropriate code\n",
        "CNN.add(Dense(64, activation='relu'))\n",
        "CNN.add(Dense(9, activation='softmax'))"
      ],
      "execution_count": null,
      "outputs": []
    },
    {
      "cell_type": "code",
      "metadata": {
        "id": "xCHNnLRuJHRZ",
        "colab": {
          "base_uri": "https://localhost:8080/"
        },
        "outputId": "ce1e8a90-4d1b-4849-8eb7-2ea6a8faeefa"
      },
      "source": [
        "CNN.summary()"
      ],
      "execution_count": null,
      "outputs": [
        {
          "output_type": "stream",
          "name": "stdout",
          "text": [
            "Model: \"sequential\"\n",
            "_________________________________________________________________\n",
            " Layer (type)                Output Shape              Param #   \n",
            "=================================================================\n",
            " conv2d (Conv2D)             (None, 26, 26, 32)        320       \n",
            "                                                                 \n",
            " max_pooling2d (MaxPooling2D  (None, 13, 13, 32)       0         \n",
            " )                                                               \n",
            "                                                                 \n",
            " conv2d_1 (Conv2D)           (None, 11, 11, 64)        18496     \n",
            "                                                                 \n",
            " max_pooling2d_1 (MaxPooling  (None, 5, 5, 64)         0         \n",
            " 2D)                                                             \n",
            "                                                                 \n",
            " conv2d_2 (Conv2D)           (None, 3, 3, 64)          36928     \n",
            "                                                                 \n",
            " flatten (Flatten)           (None, 576)               0         \n",
            "                                                                 \n",
            " dense (Dense)               (None, 64)                36928     \n",
            "                                                                 \n",
            " dense_1 (Dense)             (None, 9)                 585       \n",
            "                                                                 \n",
            "=================================================================\n",
            "Total params: 93,257\n",
            "Trainable params: 93,257\n",
            "Non-trainable params: 0\n",
            "_________________________________________________________________\n"
          ]
        }
      ]
    },
    {
      "cell_type": "code",
      "metadata": {
        "id": "RN5hhNbbhfZg"
      },
      "source": [
        "##### DO NOT RUN THIS CELL ####\n",
        "# expected output\n",
        "\n",
        "#Model: \"sequential\"\n",
        "#_________________________________________________________________\n",
        "#Layer (type)                 Output Shape              Param #   \n",
        "#=================================================================\n",
        "#conv2d (Conv2D)              (None, 26, 26, 32)        320       \n",
        "#_________________________________________________________________\n",
        "#max_pooling2d (MaxPooling2D) (None, 13, 13, 32)        0         \n",
        "#_________________________________________________________________\n",
        "#conv2d_1 (Conv2D)            (None, 11, 11, 64)        18496     \n",
        "#_________________________________________________________________\n",
        "#max_pooling2d_1 (MaxPooling2 (None, 5, 5, 64)          0         \n",
        "#_________________________________________________________________\n",
        "#conv2d_2 (Conv2D)            (None, 3, 3, 64)          36928     \n",
        "#_________________________________________________________________\n",
        "#flatten (Flatten)            (None, 576)               0         \n",
        "#_________________________________________________________________\n",
        "#dense (Dense)                (None, 64)                36928     \n",
        "#_________________________________________________________________\n",
        "#dense_1 (Dense)              (None, 10)                650       \n",
        "#=================================================================\n",
        "#Total params: 93,322\n",
        "#Trainable params: 93,322\n",
        "#Non-trainable params: 0\n",
        "#_________________________________________________________________"
      ],
      "execution_count": null,
      "outputs": []
    },
    {
      "cell_type": "markdown",
      "metadata": {
        "id": "eqrk4FryTUDx"
      },
      "source": [
        "As you can see, our output tensor of dimension `(3, 3, 64)` was flattened into a vector of size (3x3x6,)= `(576,)` before being processed by the two dense layers. Now that we've finished with our architecture, we will train the CNN on the MNIST data.\n"
      ]
    },
    {
      "cell_type": "markdown",
      "metadata": {
        "id": "3XPJEgL9WB7W"
      },
      "source": [
        "---\n",
        "###Testing the Data Labels\n",
        "We use 60,000 samples for training the neural network and 10,00 to see how well it performs. The images we will be classifying look like the image below, you can change the parameter `i` to see different examples of images their corresponding labels:"
      ]
    },
    {
      "cell_type": "code",
      "metadata": {
        "id": "sONSorDZV8yT",
        "colab": {
          "base_uri": "https://localhost:8080/",
          "height": 282
        },
        "outputId": "11574af4-9159-430c-cfc9-2d8635e1df16"
      },
      "source": [
        "########## STUDENT WORK ##########\n",
        "#play around with this!\n",
        "\n",
        "from matplotlib import pyplot as plt\n",
        "\n",
        "i=300\n",
        "\n",
        "print('label: ' + str(training_labels[i]))\n",
        "plt.imshow(training_images[i])\n",
        "plt.show()"
      ],
      "execution_count": null,
      "outputs": [
        {
          "output_type": "stream",
          "name": "stdout",
          "text": [
            "label: [5]\n"
          ]
        },
        {
          "output_type": "display_data",
          "data": {
            "text/plain": [
              "<Figure size 432x288 with 1 Axes>"
            ],
            "image/png": "[encoded data removed]"
          },
          "metadata": {
            "needs_background": "light"
          }
        }
      ]
    },
    {
      "cell_type": "markdown",
      "metadata": {
        "id": "B4yMp1PfqdqL"
      },
      "source": [
        "---\n",
        "###Processing the Data\n",
        "Before beginning the training, you will process the images. The matrices must be converted into vectors as this is what the network takes as inputs. Additionally, the tones of gray must be normalized so that they are in the interval [0,1]. Currently, there are 60,000 28x28 matrices with values between [0,255], and you need to convert each one to a vector of 28*28 = 784 entries."
      ]
    },
    {
      "cell_type": "code",
      "metadata": {
        "id": "cRig2dO4-7f3"
      },
      "source": [
        "# Normalizing the images\n",
        "training_images = training_images.reshape(training_images.shape[0], 28, 28, 1).astype('float32')\n",
        "testing_images = testing_images.reshape(testing_images.shape[0], 28, 28, 1).astype('float32')\n",
        "\n",
        "training_images = training_images / 255\n",
        "testing_images = testing_images / 255"
      ],
      "execution_count": null,
      "outputs": []
    },
    {
      "cell_type": "code",
      "metadata": {
        "id": "G-z9e7QsVDeI"
      },
      "source": [
        "########## STUDENT WORK ##########\n",
        "# One-hot encoding the training and test labels\n",
        "# hint: recall the python notebook on simple neural networks\n",
        "\n",
        "training_labels = to_categorical(training_labels)\n",
        "testing_labels = to_categorical(testing_labels)"
      ],
      "execution_count": null,
      "outputs": []
    },
    {
      "cell_type": "markdown",
      "metadata": {
        "id": "V0kcegnosAMa"
      },
      "source": [
        "We'll use the `RMSprop` optimizer for the data:"
      ]
    },
    {
      "cell_type": "code",
      "metadata": {
        "id": "73VZPx1O_eF9"
      },
      "source": [
        "########## STUDENT WORK ##########\n",
        "# compile the model\n",
        "# hint: the optimizer is in the text above\n",
        "# hint: the loss is commonly used for multi-class\n",
        "\n",
        "CNN.compile(optimizer='rmsprop', \n",
        "              loss='categorical_crossentropy',  \n",
        "              metrics=['accuracy'])"
      ],
      "execution_count": null,
      "outputs": []
    },
    {
      "cell_type": "markdown",
      "metadata": {
        "id": "h6rrBBEQbJLW"
      },
      "source": [
        "###Training the Model"
      ]
    },
    {
      "cell_type": "code",
      "metadata": {
        "id": "AHKbl6AehfZl",
        "colab": {
          "base_uri": "https://localhost:8080/"
        },
        "outputId": "0b8a8607-8ad7-4575-b68a-8dd1ccb28c30"
      },
      "source": [
        "# train the model\n",
        "history = CNN.fit(training_images, training_labels, epochs=5, batch_size=64)\n",
        "history"
      ],
      "execution_count": null,
      "outputs": [
        {
          "output_type": "stream",
          "name": "stdout",
          "text": [
            "Epoch 1/5\n",
            "1407/1407 [==============================] - 20s 5ms/step - loss: 1.8010 - accuracy: 0.3063\n",
            "Epoch 2/5\n",
            "1407/1407 [==============================] - 6s 4ms/step - loss: 1.5750 - accuracy: 0.3922\n",
            "Epoch 3/5\n",
            "1407/1407 [==============================] - 6s 4ms/step - loss: 1.4619 - accuracy: 0.4338\n",
            "Epoch 4/5\n",
            "1407/1407 [==============================] - 7s 5ms/step - loss: 1.3736 - accuracy: 0.4701\n",
            "Epoch 5/5\n",
            "1407/1407 [==============================] - 6s 4ms/step - loss: 1.2957 - accuracy: 0.5069\n"
          ]
        },
        {
          "output_type": "execute_result",
          "data": {
            "text/plain": [
              "<keras.callbacks.History at 0x7f0202fbd590>"
            ]
          },
          "metadata": {},
          "execution_count": 13
        }
      ]
    },
    {
      "cell_type": "markdown",
      "metadata": {
        "id": "vkiDxTX9AJvB"
      },
      "source": [
        "---\n",
        "##Visualizing the Training Results"
      ]
    },
    {
      "cell_type": "markdown",
      "metadata": {
        "id": "crSUluKIvL8s"
      },
      "source": [
        "To visualize the training results, we will consider both the loss and accuracy during training as shown below."
      ]
    },
    {
      "cell_type": "code",
      "metadata": {
        "id": "0Vhq1s_mAF3u",
        "colab": {
          "base_uri": "https://localhost:8080/"
        },
        "outputId": "2bf7e8f5-b707-4d4f-cfeb-a425a4f9b028"
      },
      "source": [
        "# the training results in the formation of a dictionary\n",
        "history.history.keys() #view the history dictionary keys"
      ],
      "execution_count": null,
      "outputs": [
        {
          "output_type": "execute_result",
          "data": {
            "text/plain": [
              "dict_keys(['loss', 'accuracy'])"
            ]
          },
          "metadata": {},
          "execution_count": 14
        }
      ]
    },
    {
      "cell_type": "markdown",
      "metadata": {
        "id": "4UB-FGXsvgUO"
      },
      "source": [
        "---\n",
        "First, we will plot the loss vs. epoch graph. \n",
        "\n",
        "Fill in the correct history dictionary key below:"
      ]
    },
    {
      "cell_type": "code",
      "metadata": {
        "id": "WmbEyZI0ANM7",
        "colab": {
          "base_uri": "https://localhost:8080/",
          "height": 295
        },
        "outputId": "6365fe9a-2d35-46ad-9f55-b30cf1939a12"
      },
      "source": [
        "import matplotlib.pyplot as plt\n",
        "\n",
        "# history is a variable that stores the results of the trained model\n",
        "# .history is an dictionary attribute of the results of the trained model \n",
        "# the history dictionary contains the losses and accuracy levels per epoch\n",
        "\n",
        "\n",
        "########## STUDENT WORK ##########\n",
        "# put in one of the history dictionary keys in the brackets\n",
        "loss = history.history['loss']\n",
        "\n",
        "\n",
        "epochs = range(1,len(loss)+1)\n",
        "\n",
        "# Time to plot the graph\n",
        "plt.plot(epochs, loss, 'b', label = 'Training loss')\n",
        "plt.title(\"Training loss\")\n",
        "plt.xlabel(\"Epochs\")\n",
        "plt.ylabel(\"Loss\")\n",
        "\n",
        "plt.legend()\n",
        "\n",
        "plt.show()"
      ],
      "execution_count": null,
      "outputs": [
        {
          "output_type": "display_data",
          "data": {
            "text/plain": [
              "<Figure size 432x288 with 1 Axes>"
            ],
            "image/png": "[encoded data removed]"
          },
          "metadata": {
            "needs_background": "light"
          }
        }
      ]
    },
    {
      "cell_type": "markdown",
      "metadata": {
        "id": "VlqI3MdBvzOj"
      },
      "source": [
        "What do we notice about the loss as epoch increases? Is this what we expect?"
      ]
    },
    {
      "cell_type": "markdown",
      "metadata": {
        "id": "DbMBtkMhwAAW"
      },
      "source": [
        "```\n",
        "STUDENT'S RESPONSE\n",
        "```"
      ]
    },
    {
      "cell_type": "markdown",
      "metadata": {
        "id": "eJQQ6MLCv9-c"
      },
      "source": [
        "---\n",
        "Next, we will plot the accuracy vs. epoch graph.\n",
        "\n",
        "Fill in the correct history dictionary key below:"
      ]
    },
    {
      "cell_type": "code",
      "metadata": {
        "id": "u2NTX_RoAR7J",
        "colab": {
          "base_uri": "https://localhost:8080/",
          "height": 295
        },
        "outputId": "905a56e6-c75c-4395-a21a-151a7f80476c"
      },
      "source": [
        "########## STUDENT WORK ##########\n",
        "# put in one of the history dictionary keys in the brackets\n",
        "accuracy = history.history['accuracy']\n",
        "\n",
        "plt.plot(epochs, accuracy, 'b', label =\"Train accuracy\")\n",
        "plt.title(\"Training Accuracy\")\n",
        "plt.xlabel(\"Epochs\")\n",
        "plt.ylabel(\"Accuracy\")\n",
        "plt.legend()\n",
        "\n",
        "plt.show()"
      ],
      "execution_count": null,
      "outputs": [
        {
          "output_type": "display_data",
          "data": {
            "text/plain": [
              "<Figure size 432x288 with 1 Axes>"
            ],
            "image/png": "[encoded data removed]"
          },
          "metadata": {
            "needs_background": "light"
          }
        }
      ]
    },
    {
      "cell_type": "markdown",
      "metadata": {
        "id": "gPNGx8PqwmIv"
      },
      "source": [
        "What do we notice about the loss as epoch increases? Is this what we expect?"
      ]
    },
    {
      "cell_type": "markdown",
      "metadata": {
        "id": "5lCBcLVLwpL4"
      },
      "source": [
        "```\n",
        "STUDENT'S RESPONSE\n",
        "```"
      ]
    },
    {
      "cell_type": "markdown",
      "metadata": {
        "id": "rXrB_-P8AlPx"
      },
      "source": [
        "---\n",
        "##Discussion of Loss and Accuracy\n",
        "Finally, we will compare testing and training accuracy."
      ]
    },
    {
      "cell_type": "code",
      "metadata": {
        "id": "ouSzjnpxAk-3",
        "colab": {
          "base_uri": "https://localhost:8080/"
        },
        "outputId": "2bc8a2d4-1cbe-459c-b787-f3f7536a3bf5"
      },
      "source": [
        "train_loss, train_acc = CNN.evaluate(training_images, training_labels)"
      ],
      "execution_count": null,
      "outputs": [
        {
          "output_type": "stream",
          "name": "stdout",
          "text": [
            "2813/2813 [==============================] - 8s 3ms/step - loss: 1.2531 - accuracy: 0.5236\n"
          ]
        }
      ]
    },
    {
      "cell_type": "code",
      "metadata": {
        "id": "SA_37rFnAu4k",
        "colab": {
          "base_uri": "https://localhost:8080/"
        },
        "outputId": "9072a46d-f056-4ff9-8b21-c758da15f397"
      },
      "source": [
        "print(\"Training accuracy: {0:.1%}\".format(train_acc))"
      ],
      "execution_count": null,
      "outputs": [
        {
          "output_type": "stream",
          "name": "stdout",
          "text": [
            "Training accuracy: 52.4%\n"
          ]
        }
      ]
    },
    {
      "cell_type": "code",
      "metadata": {
        "id": "V69z_AGNA0xg",
        "colab": {
          "base_uri": "https://localhost:8080/"
        },
        "outputId": "03f00318-d80e-4e5d-ac43-a6139da21af1"
      },
      "source": [
        "# This looks at test accuracy\n",
        "testing_loss, testing_acc = CNN.evaluate(testing_images, testing_labels)"
      ],
      "execution_count": null,
      "outputs": [
        {
          "output_type": "stream",
          "name": "stdout",
          "text": [
            "225/225 [==============================] - 1s 3ms/step - loss: 1.3758 - accuracy: 0.5311\n"
          ]
        }
      ]
    },
    {
      "cell_type": "code",
      "metadata": {
        "id": "_K-1YgNbBCjE",
        "colab": {
          "base_uri": "https://localhost:8080/"
        },
        "outputId": "b794448c-fac2-4c00-a288-5050b40f9f62"
      },
      "source": [
        "print(\"Testing accuracy: {0:.1%}\".format(testing_acc))"
      ],
      "execution_count": null,
      "outputs": [
        {
          "output_type": "stream",
          "name": "stdout",
          "text": [
            "Testing accuracy: 53.1%\n"
          ]
        }
      ]
    },
    {
      "cell_type": "markdown",
      "metadata": {
        "id": "b3Tny1bqw7cy"
      },
      "source": [
        "Compare the training and testing accuracy. Is this what we expect? Why?"
      ]
    },
    {
      "cell_type": "markdown",
      "metadata": {
        "id": "RIq3BsoUxGQq"
      },
      "source": [
        "```\n",
        "STUDENT'S RESPONSE\n",
        "```"
      ]
    }
  ]
}
